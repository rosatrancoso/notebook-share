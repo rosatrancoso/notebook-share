{
 "cells": [
  {
   "cell_type": "code",
   "execution_count": null,
   "metadata": {},
   "outputs": [],
   "source": [
    "import numpy as np\n",
    "import matplotlib as mpl\n",
    "import matplotlib.pyplot as plt\n",
    "\n",
    "\n",
    "vals = np.array([1,3,5,16,21])\n",
    "iswater = 16\n",
    "\n",
    "data = np.zeros((5,5))\n",
    "for i, val in enumerate(vals):\n",
    "    data[i,:] = val\n",
    "plt.imshow(data)\n",
    "plt.colorbar()\n"
   ]
  },
  {
   "cell_type": "code",
   "execution_count": null,
   "metadata": {},
   "outputs": [],
   "source": [
    "\n",
    "# colormap from rgb values + cyan for water\n",
    "rgbs = mpl.cm.viridis(np.linspace(0,1,len(vals)+1))\n",
    "\n",
    "idx = np.where(vals==iswater)[0][0]\n",
    "rgbs[idx,:] = list(mpl.colors.to_rgb('cyan')) + [1]\n",
    "\n",
    "cmap = mpl.colors.ListedColormap(rgbs[:-1]).with_extremes(over=rgbs[-1])\n",
    "cmap\n"
   ]
  },
  {
   "cell_type": "code",
   "execution_count": null,
   "metadata": {},
   "outputs": [],
   "source": [
    "norm = mpl.colors.BoundaryNorm(vals,cmap.N, extend='max')\n",
    "plt.imshow(data, cmap=cmap, norm=norm)\n",
    "plt.colorbar()"
   ]
  },
  {
   "cell_type": "code",
   "execution_count": null,
   "metadata": {},
   "outputs": [],
   "source": [
    "\n",
    "# or from list of colors\n",
    "                                  # 1      3         5      16     this one doesnt show!             21\n",
    "cmap = mpl.colors.ListedColormap(['red', 'green', 'blue', 'cyan', 'magenta']).with_extremes(over='yellow')\n",
    "cmap"
   ]
  },
  {
   "cell_type": "code",
   "execution_count": null,
   "metadata": {},
   "outputs": [],
   "source": [
    "norm = mpl.colors.BoundaryNorm(vals,cmap.N, extend='max')\n",
    "plt.imshow(data, cmap=cmap, norm=norm)\n",
    "plt.colorbar()\n"
   ]
  },
  {
   "cell_type": "code",
   "execution_count": null,
   "metadata": {},
   "outputs": [],
   "source": []
  }
 ],
 "metadata": {
  "kernelspec": {
   "display_name": "notebook-share",
   "language": "python",
   "name": "python3"
  },
  "language_info": {
   "codemirror_mode": {
    "name": "ipython",
    "version": 3
   },
   "file_extension": ".py",
   "mimetype": "text/x-python",
   "name": "python",
   "nbconvert_exporter": "python",
   "pygments_lexer": "ipython3",
   "version": "3.12.5"
  }
 },
 "nbformat": 4,
 "nbformat_minor": 2
}
