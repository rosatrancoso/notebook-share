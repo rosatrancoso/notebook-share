{
 "cells": [
  {
   "cell_type": "markdown",
   "id": "ed653c13-8baf-4b54-ba70-ce3418ad5186",
   "metadata": {},
   "source": [
    "# Compare coastline products\n",
    "\n",
    "- Cartopy default - Natural-earth: https://www.naturalearthdata.com/\n",
    "- GSHHS: https://www.ngdc.noaa.gov/mgg/shorelines/gshhs.html\n",
    "- LINZ: https://data.linz.govt.nz/layer/105085-nz-coastline-mean-high-water/\n",
    " "
   ]
  },
  {
   "cell_type": "code",
   "execution_count": null,
   "id": "4496fab5-e46d-4a12-97a5-bbd5725cb855",
   "metadata": {},
   "outputs": [],
   "source": [
    "import cartopy.crs as ccrs\n",
    "import cartopy.feature as cfeature\n",
    "import matplotlib.pyplot as plt\n",
    "import matplotlib.lines as mlines\n",
    "\n"
   ]
  },
  {
   "cell_type": "code",
   "execution_count": null,
   "id": "193d4b04-5ce7-4bce-bd2e-06be6d8e4726",
   "metadata": {},
   "outputs": [],
   "source": [
    "#load the GSHSS coastline\n",
    "import cartopy.feature as cfeature\n",
    "coastline_GSHSS = cfeature.GSHHSFeature(scale='full')  #scale = ‘auto’, ‘coarse’, ‘low’, ‘intermediate’, ‘high', or ‘full’"
   ]
  },
  {
   "cell_type": "code",
   "execution_count": null,
   "id": "fc18144e",
   "metadata": {},
   "outputs": [],
   "source": [
    "#https://www.linz.govt.nz/guidance/data-service/linz-data-service-guide/web-services/wfs-filtering-attribute-or-feature\n",
    "\n",
    "import geopandas as gpd\n",
    "import requests\n",
    "import geojson\n",
    "\n",
    "url = \"https://data.linz.govt.nz/services;key=2649806d1e794603a07a711a152f3ba5/wfs\"\n",
    "\n",
    "params = dict(\n",
    "    service=\"WFS\",\n",
    "    request=\"GetFeature\",\n",
    "    typeName=\"layer-105085\",\n",
    "    outputFormat=\"json\",\n",
    ")\n",
    "\n",
    "r = requests.get(url, params=params)\n",
    "print(r.url)\n",
    "\n",
    "data = gpd.GeoDataFrame.from_features(geojson.loads(r.content), crs=\"EPSG:2193\")\n",
    "data.to_crs(\"EPSG:4326\", inplace=True)\n",
    "print(data.shape)\n",
    "data.head()"
   ]
  },
  {
   "cell_type": "code",
   "execution_count": null,
   "id": "3e8ab00e-b39e-4b8a-828d-b74675c71c42",
   "metadata": {},
   "outputs": [],
   "source": [
    "def plot_coastlines(window=[174, 176, -36, -38], clon=180, leg_loc='lower right', xlocs=None):\n",
    "\n",
    "    import matplotlib.pyplot as plt\n",
    "    import cartopy.crs as ccrs\n",
    "\n",
    "    fig, ax = plt.subplots(1,1, figsize=(10,8), subplot_kw={'projection': ccrs.PlateCarree(clon)})\n",
    "    ax.set_extent(window)\n",
    "\n",
    "    leg_handles = []\n",
    "\n",
    "    ax.coastlines('10m', color='red')\n",
    "    leg_handles += [mlines.Line2D([], [], color='red', label='Natural Earth')]\n",
    "\n",
    "    ax.add_feature(coastline_GSHSS, edgecolor='k',facecolor='none', lw=2)\n",
    "    leg_handles += [mlines.Line2D([], [], color='k', lw=2, label='GSHSS')]\n",
    "\n",
    "    data.plot(ax=ax, color='g', transform=ccrs.PlateCarree())\n",
    "    leg_handles += [mlines.Line2D([], [], color='g', label='LINZ coastline mean-high water')]\n",
    "\n",
    "    ax.legend(handles=leg_handles, loc=leg_loc)\n",
    "    gl = ax.gridlines(draw_labels=True, xlocs=xlocs)\n",
    "\n",
    "    return fig,ax\n",
    "\n",
    "#, xlocs=np.arange(160,190,5))"
   ]
  },
  {
   "cell_type": "code",
   "execution_count": null,
   "id": "1157f7ba-f1d6-44b5-bb22-4defde7d6e58",
   "metadata": {},
   "outputs": [],
   "source": [
    "# Auckland\n",
    "fig,ax = plot_coastlines(window=[174, 176, -36, -38], leg_loc='lower right')"
   ]
  },
  {
   "cell_type": "code",
   "execution_count": null,
   "id": "5ef399ab-0b4b-4e6c-a147-d41924b4fabc",
   "metadata": {},
   "outputs": [],
   "source": [
    "# Mahia\n",
    "# -39.11726928022768, 177.91082075591424\n",
    "fig,ax = plot_coastlines(window=[176.5, 178.5, -40, -38.5], leg_loc='lower right')"
   ]
  },
  {
   "cell_type": "code",
   "execution_count": null,
   "id": "3488c184-18d9-49f4-b418-c13f69ad70b3",
   "metadata": {},
   "outputs": [],
   "source": [
    "# Lytleton\n",
    "# -43.70587714765569, 172.80434947762365\n",
    "fig,ax = plot_coastlines(window=[172, 173.5, -44, -43], leg_loc='lower right')"
   ]
  },
  {
   "cell_type": "code",
   "execution_count": null,
   "id": "8b1caa90-89cf-4b10-8975-cb523ac7b349",
   "metadata": {},
   "outputs": [],
   "source": [
    "# Stewart Island\n",
    "# -46.96370832533591, 167.9080919560567\n",
    "fig,ax = plot_coastlines(window=[166, 168.6, -47.5, -45], leg_loc='lower right')\n",
    "# fig.savefig('plt_coastline_sounds.png')"
   ]
  },
  {
   "cell_type": "code",
   "execution_count": null,
   "id": "b5e9c96d-6fa8-4570-a782-f882dcdc4cba",
   "metadata": {},
   "outputs": [],
   "source": [
    "# Lisbon\n",
    "fig,ax = plot_coastlines(window=[-9.6, -8.6, 38, 39.2], clon=0, leg_loc='lower right')"
   ]
  },
  {
   "cell_type": "code",
   "execution_count": null,
   "id": "604f591d-34ff-4e61-bbbc-2500533e0edc",
   "metadata": {},
   "outputs": [],
   "source": [
    "# Madeira\n",
    "# 32.667983144110366, -16.940636395663027\n",
    "fig,ax = plot_coastlines(window=[-17.4, -16.4, 32.3, 33], clon=0, leg_loc='lower right')\n",
    "# fig.savefig('plt_coastline_madeira.png')"
   ]
  },
  {
   "cell_type": "code",
   "execution_count": null,
   "id": "60701e6e-26ea-4c52-b558-7871fd7abf59",
   "metadata": {},
   "outputs": [],
   "source": [
    "# Galicia\n",
    "# 42.8799296625815, -8.596274659638597\n",
    "fig,ax = plot_coastlines(window=[-10, -8, 42, 44], clon=0, leg_loc='upper left')"
   ]
  },
  {
   "cell_type": "code",
   "execution_count": null,
   "id": "32c775dc-1839-4810-80ae-fcee25ba2e29",
   "metadata": {},
   "outputs": [],
   "source": [
    "# Norway Bergen\n",
    "# 60.43858127037093, 5.279957533657037\n",
    "fig,ax = plot_coastlines(window=[4, 6, 59, 61], clon=0, leg_loc='lower left')\n",
    "ax.plot(5.279957533657037,60.43858127037093, 'b*', ms=20)\n",
    "ax.text(x=5.3,y=60.5, s='Bergen', color='blue', fontsize=20)\n",
    "# fig.savefig('plt_coastline_norway.png')"
   ]
  },
  {
   "cell_type": "code",
   "execution_count": null,
   "id": "74bf95e7-1150-4c01-9b4f-bb40da4ab777",
   "metadata": {},
   "outputs": [],
   "source": []
  }
 ],
 "metadata": {
  "kernelspec": {
   "display_name": "Python 3 (ipykernel)",
   "language": "python",
   "name": "python3"
  },
  "language_info": {
   "codemirror_mode": {
    "name": "ipython",
    "version": 3
   },
   "file_extension": ".py",
   "mimetype": "text/x-python",
   "name": "python",
   "nbconvert_exporter": "python",
   "pygments_lexer": "ipython3",
   "version": "3.11.9"
  }
 },
 "nbformat": 4,
 "nbformat_minor": 5
}
