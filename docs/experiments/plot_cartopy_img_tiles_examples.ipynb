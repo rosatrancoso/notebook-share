{
 "cells": [
  {
   "cell_type": "code",
   "execution_count": null,
   "metadata": {},
   "outputs": [],
   "source": [
    "import matplotlib.pyplot as plt\n",
    "import cartopy.crs as ccrs\n",
    "from cartopy.io import img_tiles\n",
    "\n",
    "\n",
    "extent = [172,179,-42,-34] # North island\n",
    "print(f'width, height = ({extent[1]-extent[0]}, {extent[3]-extent[2]}) deg')\n",
    "zoom = 7\n",
    "\n",
    "extent = [-80,-50,-50,-10] # South America\n",
    "print(f'width, height = ({extent[1]-extent[0]}, {extent[3]-extent[2]}) deg')\n",
    "zoom = 4\n",
    "\n",
    "\n",
    "# NOTE: zoom specifications should be selected based on extent:\n",
    "# -- 2     = coarse image, select for worldwide or continental scales\n",
    "# -- 4-6   = medium coarseness, select for countries and larger states\n",
    "# -- 6-10  = medium fineness, select for smaller states, regions, and cities\n",
    "# -- 10-12 = fine image, select for city boundaries and zip codes\n",
    "# -- 14+   = extremely fine image, select for roads, blocks, buildings\n",
    "# max 19"
   ]
  },
  {
   "cell_type": "code",
   "execution_count": null,
   "metadata": {},
   "outputs": [],
   "source": [
    "# simple\n",
    "\n",
    "fig, ax = plt.subplots(1, 1, subplot_kw={\"projection\": ccrs.PlateCarree()})\n",
    "ax.set_extent(extent)\n",
    "ax.coastlines()\n",
    "gl = ax.gridlines(draw_labels=True)\n",
    "gl.top_labels = False\n",
    "gl.right_labels = False\n"
   ]
  },
  {
   "cell_type": "code",
   "execution_count": null,
   "metadata": {},
   "outputs": [],
   "source": [
    "# stock_img\n",
    "\n",
    "fig, ax = plt.subplots(1, 1, subplot_kw={\"projection\": ccrs.PlateCarree()})\n",
    "ax.set_extent(extent)\n",
    "ax.stock_img()\n",
    "ax.coastlines()\n",
    "gl = ax.gridlines(draw_labels=True)\n",
    "gl.top_labels = False\n",
    "gl.right_labels = False\n",
    "ax.set_title('stock_img')"
   ]
  },
  {
   "cell_type": "code",
   "execution_count": null,
   "metadata": {},
   "outputs": [],
   "source": [
    "# GoogleTiles Street\n",
    "\n",
    "fig, ax = plt.subplots(1, 1, subplot_kw={\"projection\": ccrs.PlateCarree()})\n",
    "ax.set_extent(extent)\n",
    "ax.add_image(img_tiles.GoogleTiles(style='street'),zoom)\n",
    "# ax.coastlines()\n",
    "gl = ax.gridlines(draw_labels=True)\n",
    "gl.top_labels = False\n",
    "gl.right_labels = False\n",
    "ax.set_title('GoogleTiles - street')\n"
   ]
  },
  {
   "cell_type": "code",
   "execution_count": null,
   "metadata": {},
   "outputs": [],
   "source": [
    "# GoogleTiles satellite\n",
    "\n",
    "fig, ax = plt.subplots(1, 1, subplot_kw={\"projection\": ccrs.PlateCarree()})\n",
    "ax.set_extent(extent)\n",
    "ax.add_image(img_tiles.GoogleTiles(style='satellite'),zoom)\n",
    "# ax.coastlines()\n",
    "gl = ax.gridlines(draw_labels=True)\n",
    "gl.top_labels = False\n",
    "gl.right_labels = False\n",
    "ax.set_title('GoogleTiles  - satellite')\n"
   ]
  },
  {
   "cell_type": "code",
   "execution_count": null,
   "metadata": {},
   "outputs": [],
   "source": [
    "# GoogleTiles terrain - all black!\n",
    "\n",
    "fig, ax = plt.subplots(1, 1, subplot_kw={\"projection\": ccrs.PlateCarree()})\n",
    "ax.set_extent(extent)\n",
    "ax.add_image(img_tiles.GoogleTiles(style='terrain'),zoom)\n",
    "# ax.coastlines()\n",
    "gl = ax.gridlines(draw_labels=True)\n",
    "gl.top_labels = False\n",
    "gl.right_labels = False\n",
    "ax.set_title('GoogleTiles - Terrain')\n"
   ]
  },
  {
   "cell_type": "code",
   "execution_count": null,
   "metadata": {},
   "outputs": [],
   "source": [
    "# OSM\n",
    "\n",
    "fig, ax = plt.subplots(1, 1, subplot_kw={\"projection\": ccrs.PlateCarree()})\n",
    "ax.set_extent(extent)\n",
    "ax.add_image(img_tiles.OSM(),zoom)\n",
    "# ax.coastlines()\n",
    "gl = ax.gridlines(draw_labels=True)\n",
    "gl.top_labels = False\n",
    "gl.right_labels = False\n",
    "ax.set_title('OSM')\n"
   ]
  },
  {
   "cell_type": "code",
   "execution_count": null,
   "metadata": {},
   "outputs": [],
   "source": [
    "#https://stackoverflow.com/questions/77248120/stamen-terrain-map-not-working-in-cartopy\n",
    "\n",
    "def image_spoof(self, tile):\n",
    "\n",
    "    import io\n",
    "    from urllib.request import urlopen, Request\n",
    "    from PIL import Image\n",
    "\n",
    "    url = self._image_url(tile) # get the url of the street map API\n",
    "    req = Request(url) # start request\n",
    "    req.add_header('User-agent','Anaconda 3')\n",
    "    fh = urlopen(req)\n",
    "    im_data = io.BytesIO(fh.read())\n",
    "    fh.close()\n",
    "    img = Image.open(im_data)\n",
    "    img = img.convert(self.desired_tile_form) # set image format\n",
    "    return img, self.tileextent(tile), 'lower' # reformat for cartopy\n",
    "\n",
    "img_tiles.OSM.get_image = image_spoof # reformat web request for street map spoofing\n",
    "tile_image = img_tiles.OSM() # spoofed, downloaded street map\n",
    "\n",
    "fig, ax = plt.subplots(1, 1, subplot_kw={\"projection\": ccrs.PlateCarree()})\n",
    "ax.set_extent(extent)\n",
    "ax.add_image(tile_image,zoom)\n",
    "# ax.coastlines()\n",
    "gl = ax.gridlines(draw_labels=True)\n",
    "gl.top_labels = False\n",
    "gl.right_labels = False\n",
    "ax.set_title('spoofed OSM')\n"
   ]
  },
  {
   "cell_type": "code",
   "execution_count": null,
   "metadata": {},
   "outputs": [],
   "source": [
    "img_tiles.QuadtreeTiles.get_image = image_spoof # reformat web request for street map spoofing\n",
    "tile_image = img_tiles.QuadtreeTiles() # spoofed, downloaded street map\n",
    "\n",
    "fig, ax = plt.subplots(1, 1, subplot_kw={\"projection\": ccrs.PlateCarree()})\n",
    "ax.set_extent(extent)\n",
    "ax.add_image(tile_image,zoom)\n",
    "# ax.coastlines()\n",
    "gl = ax.gridlines(draw_labels=True)\n",
    "gl.top_labels = False\n",
    "gl.right_labels = False\n",
    "ax.set_title('spoofed QuadtreeTiles')"
   ]
  },
  {
   "cell_type": "code",
   "execution_count": null,
   "metadata": {},
   "outputs": [],
   "source": [
    "img_tiles.StadiaMapsTiles.get_image = image_spoof # reformat web request for street map spoofing\n",
    "tile_image = img_tiles.StadiaMapsTiles(style='alidade_smooth', apikey='3f2c1505-df0e-4ac6-940c-83febd5cd7c5') # spoofed, downloaded street map\n",
    "\n",
    "fig, ax = plt.subplots(1, 1, subplot_kw={\"projection\": ccrs.PlateCarree()})\n",
    "ax.set_extent(extent)\n",
    "ax.add_image(tile_image,zoom)\n",
    "# ax.coastlines()\n",
    "gl = ax.gridlines(draw_labels=True)\n",
    "gl.top_labels = False\n",
    "gl.right_labels = False\n",
    "ax.set_title('spoofed StadiaMapsTiles - alidade_smooth')\n"
   ]
  },
  {
   "cell_type": "code",
   "execution_count": null,
   "metadata": {},
   "outputs": [],
   "source": [
    "img_tiles.StadiaMapsTiles.get_image = image_spoof #\n",
    "tile_image = img_tiles.StadiaMapsTiles(style='stamen_terrain', apikey='3f2c1505-df0e-4ac6-940c-83febd5cd7c5') # spoofed, downloaded street map\n",
    "\n",
    "fig, ax = plt.subplots(1, 1, subplot_kw={\"projection\": ccrs.PlateCarree()})\n",
    "ax.set_extent(extent)\n",
    "ax.add_image(tile_image,zoom)\n",
    "# ax.coastlines()\n",
    "gl = ax.gridlines(draw_labels=True)\n",
    "gl.top_labels = False\n",
    "gl.right_labels = False\n",
    "ax.set_title('spoofed StadiaMapsTiles - stamen_terrain')"
   ]
  },
  {
   "cell_type": "code",
   "execution_count": null,
   "metadata": {},
   "outputs": [],
   "source": [
    "img_tiles.StadiaMapsTiles.get_image = image_spoof #\n",
    "tile_image = img_tiles.StadiaMapsTiles(style='osm_bright', apikey='3f2c1505-df0e-4ac6-940c-83febd5cd7c5') # spoofed, downloaded street map\n",
    "\n",
    "fig, ax = plt.subplots(1, 1, subplot_kw={\"projection\": ccrs.PlateCarree()})\n",
    "ax.set_extent(extent)\n",
    "ax.add_image(tile_image,zoom)\n",
    "# ax.coastlines()\n",
    "gl = ax.gridlines(draw_labels=True)\n",
    "gl.top_labels = False\n",
    "gl.right_labels = False\n",
    "ax.set_title('spoofed StadiaMapsTiles - osm_bright')"
   ]
  },
  {
   "cell_type": "code",
   "execution_count": null,
   "metadata": {},
   "outputs": [],
   "source": [
    "# or a full reference on the styles available please see\n",
    "# https://docs.stadiamaps.com/themes/.\n",
    "\n"
   ]
  }
 ],
 "metadata": {
  "kernelspec": {
   "display_name": "Python 3 (ipykernel)",
   "language": "python",
   "name": "python3"
  },
  "language_info": {
   "codemirror_mode": {
    "name": "ipython",
    "version": 3
   },
   "file_extension": ".py",
   "mimetype": "text/x-python",
   "name": "python",
   "nbconvert_exporter": "python",
   "pygments_lexer": "ipython3",
   "version": "3.12.5"
  }
 },
 "nbformat": 4,
 "nbformat_minor": 2
}
