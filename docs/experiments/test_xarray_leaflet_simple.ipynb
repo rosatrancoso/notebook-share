{
 "cells": [
  {
   "cell_type": "code",
   "execution_count": null,
   "metadata": {},
   "outputs": [],
   "source": [
    "import numpy as np\n",
    "import matplotlib.pyplot as plt\n",
    "import xarray as xr\n",
    "import xarray_leaflet\n",
    "import ipyleaflet\n",
    "import rioxarray"
   ]
  },
  {
   "cell_type": "code",
   "execution_count": null,
   "metadata": {},
   "outputs": [],
   "source": [
    "z=1500\n",
    "\n",
    "image = np.zeros((61, 61))\n",
    "image[0, :] = z\n",
    "image[60, :] = z\n",
    "image[:, 0] = z\n",
    "image[:, 60] = z\n",
    "image[:10,:10] = 1000\n",
    "image[10:20,10:20] = 500\n",
    "image[20:30,20:30] = np.nan\n",
    "\n",
    "print(image)\n",
    "\n",
    "plt.imshow(image)\n",
    "plt.colorbar()"
   ]
  },
  {
   "cell_type": "code",
   "execution_count": null,
   "metadata": {},
   "outputs": [],
   "source": [
    "da = xr.DataArray(image, dims=['y','x'], coords=dict(x=np.arange(-60,61,2), y=np.arange(61,0,-1)))\n",
    "da"
   ]
  },
  {
   "cell_type": "code",
   "execution_count": null,
   "metadata": {},
   "outputs": [],
   "source": [
    "da.plot()"
   ]
  },
  {
   "cell_type": "code",
   "execution_count": null,
   "metadata": {},
   "outputs": [],
   "source": [
    "m = ipyleaflet.Map(center=[0, 0], zoom=3)\n",
    "l = da.leaflet.plot(m)\n",
    "m"
   ]
  },
  {
   "cell_type": "code",
   "execution_count": null,
   "metadata": {},
   "outputs": [],
   "source": [
    "\n",
    "\n",
    "da = da.rio.write_crs(4326)  # WGS 84\n",
    "da = da.rio.write_nodata(np.nan)\n",
    "\n",
    "l = da.leaflet.plot(m, colormap=plt.cm.viridis)\n"
   ]
  },
  {
   "cell_type": "code",
   "execution_count": null,
   "metadata": {},
   "outputs": [],
   "source": []
  }
 ],
 "metadata": {
  "kernelspec": {
   "display_name": "Python 3 (ipykernel)",
   "language": "python",
   "name": "python3"
  },
  "language_info": {
   "codemirror_mode": {
    "name": "ipython",
    "version": 3
   },
   "file_extension": ".py",
   "mimetype": "text/x-python",
   "name": "python",
   "nbconvert_exporter": "python",
   "pygments_lexer": "ipython3",
   "version": "3.12.5"
  }
 },
 "nbformat": 4,
 "nbformat_minor": 4
}
