{
 "cells": [
  {
   "cell_type": "code",
   "execution_count": null,
   "metadata": {},
   "outputs": [],
   "source": [
    "import numpy as np\n",
    "import matplotlib.pyplot as plt\n",
    "import xarray as xr\n"
   ]
  },
  {
   "cell_type": "markdown",
   "metadata": {},
   "source": [
    "### imshow with common colorbar"
   ]
  },
  {
   "cell_type": "code",
   "execution_count": null,
   "metadata": {},
   "outputs": [],
   "source": [
    "\n",
    "\n",
    "x = np.arange(-5,5)\n",
    "y = np.arange(-6,4)\n",
    "\n",
    "\n",
    "fig, axs = plt.subplots(nrows=2, ncols=2)\n",
    "for ax in axs.flat:\n",
    "    im = ax.pcolormesh(x,y, np.random.random((10,10)), vmin=0, vmax=1)\n",
    "fig.subplots_adjust(right=0.8)\n",
    "\n",
    "# [x0,y0,width,height]\n",
    "cbar_ax = fig.add_axes([0.85, 0.15, 0.05, 0.7])\n",
    "fig.colorbar(im, cax=cbar_ax)"
   ]
  },
  {
   "cell_type": "markdown",
   "metadata": {},
   "source": [
    "### xarray data_vars and common colorbar"
   ]
  },
  {
   "cell_type": "code",
   "execution_count": null,
   "metadata": {},
   "outputs": [],
   "source": [
    "fg= xr.concat([\n",
    "    ldasout_wrf['ACCPRCP'].isel(time=-1),\n",
    "    ldasout_sup['ACCPRCP'].isel(time=-1)],\n",
    "          dim='new_dim').plot(x='ix', y='iy', col='new_dim', cmap='gist_ncar')\n",
    "\n",
    "titles = ['wrf', 'sup']\n",
    "for i,ax in enumerate(fg.axs.flatten()):\n",
    "    ax.axis(zoom_land)\n",
    "    ax.set_title(titles[i])"
   ]
  },
  {
   "cell_type": "code",
   "execution_count": null,
   "metadata": {},
   "outputs": [],
   "source": []
  }
 ],
 "metadata": {
  "kernelspec": {
   "display_name": "notebook-share",
   "language": "python",
   "name": "python3"
  },
  "language_info": {
   "codemirror_mode": {
    "name": "ipython",
    "version": 3
   },
   "file_extension": ".py",
   "mimetype": "text/x-python",
   "name": "python",
   "nbconvert_exporter": "python",
   "pygments_lexer": "ipython3",
   "version": "3.12.5"
  }
 },
 "nbformat": 4,
 "nbformat_minor": 2
}
