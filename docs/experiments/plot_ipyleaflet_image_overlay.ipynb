{
 "cells": [
  {
   "cell_type": "code",
   "execution_count": 1,
   "metadata": {},
   "outputs": [
    {
     "name": "stdout",
     "output_type": "stream",
     "text": [
      "--2024-09-30 14:51:10--  https://data.hydrosheds.org/file/hydrosheds-v1-con/au_con_3s/s40e170_con.zip\n",
      "Resolving data.hydrosheds.org (data.hydrosheds.org)... 104.21.14.61, 172.67.158.28, 2606:4700:3036::6815:e3d, ...\n",
      "Connecting to data.hydrosheds.org (data.hydrosheds.org)|104.21.14.61|:443... connected.\n",
      "HTTP request sent, awaiting response... 200 \n",
      "Length: 22857095 (22M) [application/zip]\n",
      "Saving to: ‘s40e170_con.zip.2’\n",
      "\n",
      "s40e170_con.zip.2   100%[===================>]  21.80M  1.76MB/s    in 13s     \n",
      "\n",
      "2024-09-30 14:51:23 (1.73 MB/s) - ‘s40e170_con.zip.2’ saved [22857095/22857095]\n",
      "\n"
     ]
    }
   ],
   "source": [
    "! wget https://data.hydrosheds.org/file/hydrosheds-v1-con/au_con_3s/s40e170_con.zip"
   ]
  },
  {
   "cell_type": "code",
   "execution_count": 2,
   "metadata": {},
   "outputs": [
    {
     "name": "stdout",
     "output_type": "stream",
     "text": [
      "Archive:  s40e170_con.zip\n",
      " extracting: s40e170_con.tif         \n",
      " extracting: HydroSHEDS_TechDoc_v1_4.pdf  \n"
     ]
    }
   ],
   "source": [
    "! unzip -o s40e170_con.zip"
   ]
  },
  {
   "cell_type": "code",
   "execution_count": 3,
   "metadata": {},
   "outputs": [
    {
     "name": "stdout",
     "output_type": "stream",
     "text": [
      "Driver: GTiff/GeoTIFF\n",
      "Files: s40e170_con.tif\n",
      "Size is 12000, 12000\n",
      "Coordinate System is:\n",
      "GEOGCRS[\"WGS 84\",\n",
      "    ENSEMBLE[\"World Geodetic System 1984 ensemble\",\n",
      "        MEMBER[\"World Geodetic System 1984 (Transit)\"],\n",
      "        MEMBER[\"World Geodetic System 1984 (G730)\"],\n",
      "        MEMBER[\"World Geodetic System 1984 (G873)\"],\n",
      "        MEMBER[\"World Geodetic System 1984 (G1150)\"],\n",
      "        MEMBER[\"World Geodetic System 1984 (G1674)\"],\n",
      "        MEMBER[\"World Geodetic System 1984 (G1762)\"],\n",
      "        MEMBER[\"World Geodetic System 1984 (G2139)\"],\n",
      "        MEMBER[\"World Geodetic System 1984 (G2296)\"],\n",
      "        ELLIPSOID[\"WGS 84\",6378137,298.257223563,\n",
      "            LENGTHUNIT[\"metre\",1]],\n",
      "        ENSEMBLEACCURACY[2.0]],\n",
      "    PRIMEM[\"Greenwich\",0,\n",
      "        ANGLEUNIT[\"degree\",0.0174532925199433]],\n",
      "    CS[ellipsoidal,2],\n",
      "        AXIS[\"geodetic latitude (Lat)\",north,\n",
      "            ORDER[1],\n",
      "            ANGLEUNIT[\"degree\",0.0174532925199433]],\n",
      "        AXIS[\"geodetic longitude (Lon)\",east,\n",
      "            ORDER[2],\n",
      "            ANGLEUNIT[\"degree\",0.0174532925199433]],\n",
      "    USAGE[\n",
      "        SCOPE[\"Horizontal component of 3D system.\"],\n",
      "        AREA[\"World.\"],\n",
      "        BBOX[-90,-180,90,180]],\n",
      "    ID[\"EPSG\",4326]]\n",
      "Data axis to CRS axis mapping: 2,1\n",
      "Origin = (170.000000000000000,-30.000000000000000)\n",
      "Pixel Size = (0.000833333333333,-0.000833333333333)\n",
      "Metadata:\n",
      "  DataType=Generic\n",
      "  AREA_OR_POINT=Area\n",
      "Image Structure Metadata:\n",
      "  COMPRESSION=LZW\n",
      "  INTERLEAVE=BAND\n",
      "Corner Coordinates:\n",
      "Upper Left  ( 170.0000000, -30.0000000) (170d 0' 0.00\"E, 30d 0' 0.00\"S)\n",
      "Lower Left  ( 170.0000000, -40.0000000) (170d 0' 0.00\"E, 40d 0' 0.00\"S)\n",
      "Upper Right ( 180.0000000, -30.0000000) (180d 0' 0.00\"E, 30d 0' 0.00\"S)\n",
      "Lower Right ( 180.0000000, -40.0000000) (180d 0' 0.00\"E, 40d 0' 0.00\"S)\n",
      "Center      ( 175.0000000, -35.0000000) (175d 0' 0.00\"E, 35d 0' 0.00\"S)\n",
      "Band 1 Block=128x128 Type=Int16, ColorInterp=Gray\n",
      "  Description = s35e170_con\n",
      "  NoData Value=32767\n",
      "  Metadata:\n",
      "    RepresentationType=THEMATIC\n"
     ]
    }
   ],
   "source": [
    "! gdalinfo s40e170_con.tif"
   ]
  },
  {
   "cell_type": "code",
   "execution_count": 4,
   "metadata": {},
   "outputs": [
    {
     "name": "stdout",
     "output_type": "stream",
     "text": [
      "Creating output file that is 10738P x 13142L.\n",
      "Using internal nodata values (e.g. 32767) for image s40e170_con.tif.\n",
      "Copying nodata values from source s40e170_con.tif to destination s40e170_con_merc.tif.\n",
      "Processing s40e170_con.tif [1/1] : 0...10...20...30...40...50...60...70...80...90...100 - done.\n"
     ]
    }
   ],
   "source": [
    "%%bash\n",
    "\n",
    "export PROJ_LIB=\"$CONDA_PREFIX/share/proj\"\n",
    "rm -rf s40e170_con_merc.tif\n",
    "gdalwarp -s_srs epsg:4326 -t_srs epsg:3857 s40e170_con.tif s40e170_con_merc.tif"
   ]
  },
  {
   "cell_type": "code",
   "execution_count": 5,
   "metadata": {},
   "outputs": [],
   "source": [
    "import rasterio\n",
    "import matplotlib.pyplot as plt\n",
    "import copy\n",
    "from base64 import b64encode\n",
    "import numpy as np\n",
    "import ipyleaflet\n",
    "\n",
    "cmap = copy.copy(plt.get_cmap('jet'))\n",
    "cmap.set_under('k', alpha=0)\n",
    "\n",
    "def geotiff_to_png(filein, fileout, cmap='jet', vmin=0.1, vmax=2000, mask_value=32767):\n",
    "\n",
    "    print(f'Reading {filein}')\n",
    "    src = rasterio.open(filein)\n",
    "    print(src.crs.to_proj4())\n",
    "    print(src.bounds)\n",
    "\n",
    "    data = src.read(1)\n",
    "    print(data.shape, data.min(), data.max())\n",
    "    data = np.where(data == mask_value, np.nan, data)\n",
    "    print(data.shape, np.nanmin(data), np.nanmax(data))\n",
    "\n",
    "    print(f'Plotting into {fileout}')\n",
    "    plt.imshow(data, cmap=cmap, aspect='equal', vmin=vmin, vmax=vmax)\n",
    "    plt.axis('off')\n",
    "    plt.savefig(fileout, transparent=True, bbox_inches='tight', dpi=500,pad_inches = 0)\n",
    "    plt.show()\n",
    "    plt.close()\n",
    "\n",
    "def get_latlon_gridlines(window=[-180,180,-90,90], dx=10,dy=10):\n",
    "    x1,x2,y1,y2 = window\n",
    "    gridlines = []\n",
    "    # parallels for each lat\n",
    "    for lat in np.arange(y1, y2+dy/2, dy):\n",
    "        gridlines += [([lat,x1], [lat,x2])]\n",
    "    # meridians for each lon\n",
    "    for lon in  np.arange(x1, x2+dx/2, dx):\n",
    "        gridlines += [([y1,lon], [y2,lon])]\n",
    "\n",
    "    return(gridlines)"
   ]
  },
  {
   "cell_type": "code",
   "execution_count": 6,
   "metadata": {},
   "outputs": [
    {
     "name": "stdout",
     "output_type": "stream",
     "text": [
      "Reading s40e170_con_merc.tif\n",
      "+init=epsg:3857\n",
      "BoundingBox(left=18924313.434856508, bottom=-4865990.889283198, right=20037426.317867253, top=-3503549.8435043753)\n",
      "(13142, 10738) -51 32767\n",
      "(13142, 10738) -51.0 2720.0\n",
      "Plotting into s40e170_con_merc.png\n"
     ]
    },
    {
     "data": {
      "image/png": "[encoded data removed]",
      "text/plain": [
       "<Figure size 640x480 with 1 Axes>"
      ]
     },
     "metadata": {},
     "output_type": "display_data"
    }
   ],
   "source": [
    "geotiff_to_png('s40e170_con_merc.tif', 's40e170_con_merc.png', cmap='jet')"
   ]
  },
  {
   "cell_type": "code",
   "execution_count": 7,
   "metadata": {},
   "outputs": [
    {
     "name": "stdout",
     "output_type": "stream",
     "text": [
      "Driver: GTiff/GeoTIFF\n",
      "Files: s40e170_con.tif\n",
      "Size is 12000, 12000\n",
      "Coordinate System is:\n",
      "GEOGCRS[\"WGS 84\",\n",
      "    ENSEMBLE[\"World Geodetic System 1984 ensemble\",\n",
      "        MEMBER[\"World Geodetic System 1984 (Transit)\"],\n",
      "        MEMBER[\"World Geodetic System 1984 (G730)\"],\n",
      "        MEMBER[\"World Geodetic System 1984 (G873)\"],\n",
      "        MEMBER[\"World Geodetic System 1984 (G1150)\"],\n",
      "        MEMBER[\"World Geodetic System 1984 (G1674)\"],\n",
      "        MEMBER[\"World Geodetic System 1984 (G1762)\"],\n",
      "        MEMBER[\"World Geodetic System 1984 (G2139)\"],\n",
      "        MEMBER[\"World Geodetic System 1984 (G2296)\"],\n",
      "        ELLIPSOID[\"WGS 84\",6378137,298.257223563,\n",
      "            LENGTHUNIT[\"metre\",1]],\n",
      "        ENSEMBLEACCURACY[2.0]],\n",
      "    PRIMEM[\"Greenwich\",0,\n",
      "        ANGLEUNIT[\"degree\",0.0174532925199433]],\n",
      "    CS[ellipsoidal,2],\n",
      "        AXIS[\"geodetic latitude (Lat)\",north,\n",
      "            ORDER[1],\n",
      "            ANGLEUNIT[\"degree\",0.0174532925199433]],\n",
      "        AXIS[\"geodetic longitude (Lon)\",east,\n",
      "            ORDER[2],\n",
      "            ANGLEUNIT[\"degree\",0.0174532925199433]],\n",
      "    USAGE[\n",
      "        SCOPE[\"Horizontal component of 3D system.\"],\n",
      "        AREA[\"World.\"],\n",
      "        BBOX[-90,-180,90,180]],\n",
      "    ID[\"EPSG\",4326]]\n",
      "Data axis to CRS axis mapping: 2,1\n",
      "Origin = (170.000000000000000,-30.000000000000000)\n",
      "Pixel Size = (0.000833333333333,-0.000833333333333)\n",
      "Metadata:\n",
      "  DataType=Generic\n",
      "  AREA_OR_POINT=Area\n",
      "Image Structure Metadata:\n",
      "  COMPRESSION=LZW\n",
      "  INTERLEAVE=BAND\n",
      "Corner Coordinates:\n",
      "Upper Left  ( 170.0000000, -30.0000000) (170d 0' 0.00\"E, 30d 0' 0.00\"S)\n",
      "Lower Left  ( 170.0000000, -40.0000000) (170d 0' 0.00\"E, 40d 0' 0.00\"S)\n",
      "Upper Right ( 180.0000000, -30.0000000) (180d 0' 0.00\"E, 30d 0' 0.00\"S)\n",
      "Lower Right ( 180.0000000, -40.0000000) (180d 0' 0.00\"E, 40d 0' 0.00\"S)\n",
      "Center      ( 175.0000000, -35.0000000) (175d 0' 0.00\"E, 35d 0' 0.00\"S)\n",
      "Band 1 Block=128x128 Type=Int16, ColorInterp=Gray\n",
      "  Description = s35e170_con\n",
      "  NoData Value=32767\n",
      "  Metadata:\n",
      "    RepresentationType=THEMATIC\n"
     ]
    }
   ],
   "source": [
    "! gdalinfo s40e170_con.tif"
   ]
  },
  {
   "cell_type": "code",
   "execution_count": 8,
   "metadata": {},
   "outputs": [
    {
     "name": "stdout",
     "output_type": "stream",
     "text": [
      "((-40, 170), (-30, 180))\n"
     ]
    }
   ],
   "source": [
    "# bounds = ((miny, minx), (maxy, maxx))\n",
    "x1,x2,y1,y2 = 170,180,-40,-30\n",
    "bounds = ((y1, x1), (y2,x2))\n",
    "print(bounds)\n",
    "\n",
    "gridlines = get_latlon_gridlines(window=[x1,x2,y1,y2], dx=1,dy=1)\n"
   ]
  },
  {
   "cell_type": "code",
   "execution_count": 9,
   "metadata": {},
   "outputs": [
    {
     "data": {
      "application/vnd.jupyter.widget-view+json": {
       "model_id": "1e815328b1904aa3bc1803c5b9570f79",
       "version_major": 2,
       "version_minor": 0
      },
      "text/plain": [
       "Map(center=[-40, 170], controls=(ZoomControl(options=['position', 'zoom_in_text', 'zoom_in_title', 'zoom_out_t…"
      ]
     },
     "execution_count": 9,
     "metadata": {},
     "output_type": "execute_result"
    }
   ],
   "source": [
    "\n",
    "m = ipyleaflet.Map(center=[-40,170], zoom = 4, scroll_wheel_zoom=True)\n",
    "\n",
    "\n",
    "m.add_layer(\n",
    "    ipyleaflet.Polyline(\n",
    "        name='gridlines',\n",
    "        locations=gridlines,\n",
    "        color=\"gray\" ,\n",
    "        fill=False,\n",
    "        weight=1\n",
    "    )\n",
    ")\n",
    "\n",
    "with open('s40e170_con_merc.png', \"rb\") as f:\n",
    "    data = b64encode(f.read())\n",
    "    data = data.decode(\"ascii\")\n",
    "    imgurl = \"data:image/png;base64,\" + data\n",
    "\n",
    "image = ipyleaflet.ImageOverlay(url=imgurl, bounds=bounds, opacity=0.4, name='merc')\n",
    "m.add_layer(image)\n",
    "\n",
    "m.add_control(ipyleaflet.LayersControl())\n",
    "m\n"
   ]
  },
  {
   "cell_type": "code",
   "execution_count": null,
   "metadata": {},
   "outputs": [],
   "source": []
  }
 ],
 "metadata": {
  "kernelspec": {
   "display_name": "Python 3 (ipykernel)",
   "language": "python",
   "name": "python3"
  },
  "language_info": {
   "codemirror_mode": {
    "name": "ipython",
    "version": 3
   },
   "file_extension": ".py",
   "mimetype": "text/x-python",
   "name": "python",
   "nbconvert_exporter": "python",
   "pygments_lexer": "ipython3",
   "version": "3.12.5"
  }
 },
 "nbformat": 4,
 "nbformat_minor": 4
}
