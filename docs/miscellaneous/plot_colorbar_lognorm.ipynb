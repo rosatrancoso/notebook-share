{
 "cells": [
  {
   "cell_type": "markdown",
   "id": "90c16181",
   "metadata": {},
   "source": [
    "# Plot lognorm colorbar \n",
    "To be reviewed..."
   ]
  },
  {
   "cell_type": "code",
   "execution_count": 1,
   "id": "abdd57d2-29b5-4428-9f77-0e1deae3667c",
   "metadata": {},
   "outputs": [],
   "source": [
    "import numpy as np\n",
    "import matplotlib.pyplot as plt\n",
    "import matplotlib.colors\n",
    "import matplotlib.cm\n",
    "import xarray as xr\n",
    "\n",
    "# data = np.random.lognormal(sigma=6, size=(n,n))\n",
    "# plt.pcolormesh(data, norm=colors.LogNorm())\n",
    "# plt.colorbar()"
   ]
  },
  {
   "cell_type": "code",
   "execution_count": null,
   "id": "b787abd4-e7f9-4f70-b14f-c3afc699790e",
   "metadata": {},
   "outputs": [],
   "source": [
    "vmin1 = 1.e-4\n",
    "vmax1 = 1.e4\n",
    "lev_exp1 = np.arange(np.log10(vmin1), np.log10(vmax1).max() + 1)\n",
    "print(lev_exp1)\n",
    "levs1 = np.power(10, lev_exp1)\n",
    "print(levs1)\n",
    "\n",
    "levs2 = levs1[1:-1]\n",
    "print(levs2)"
   ]
  },
  {
   "cell_type": "code",
   "execution_count": null,
   "id": "f23539bf-a7c6-4d9f-b7f0-1de43ca232d1",
   "metadata": {},
   "outputs": [],
   "source": [
    "n = len(levs1)*10\n",
    "print(n)\n",
    "\n",
    "data = np.zeros((n,n))\n",
    "for i, lev in enumerate(levs1):\n",
    "    j1 = i*10\n",
    "    j2 = (i+1)*10\n",
    "    data[j1:j2,:] = levs1[i]\n",
    "\n",
    "print(data.min(), data.max())"
   ]
  },
  {
   "cell_type": "markdown",
   "id": "a1cddc86-306e-45fb-bc72-1049ee2b8b0b",
   "metadata": {},
   "source": [
    "## Numpy \n",
    "\n",
    "### pcolormesh vs contourf"
   ]
  },
  {
   "cell_type": "code",
   "execution_count": null,
   "id": "3839c791-8d9e-48c8-9e2f-db2cb7b72397",
   "metadata": {},
   "outputs": [],
   "source": [
    "fig, axs = plt.subplots(1,3, figsize=(14,4))\n",
    "ax = axs[0]\n",
    "p1 = ax.pcolormesh(data, norm=matplotlib.colors.LogNorm(vmin=levs1[0], vmax=levs1[-1]))\n",
    "plt.colorbar(p1, ax=ax)\n",
    "ax.set_title('pcolormesh')\n",
    "\n",
    "# Repeated color on lower limit => shows only diff colors for values > 1e-3\n",
    "ax = axs[1]\n",
    "p1 = ax.contourf(data, levels=levs1, norm=matplotlib.colors.LogNorm(vmin=levs1[0], vmax=levs1[-1]))\n",
    "plt.colorbar(p1, ax=ax)\n",
    "ax.set_title('contourf')\n",
    "\n",
    "# Mask ok upper limit (v > 1e-3)\n",
    "# Mask lower limit (v < 1e-2)\n",
    "ax = axs[2]\n",
    "p1 = ax.contourf(data, levels=levs2, norm=matplotlib.colors.LogNorm(vmin=levs2[0], vmax=levs2[-1]))\n",
    "plt.colorbar(p1, ax=ax)\n",
    "ax.set_title('contourf & levs2')"
   ]
  },
  {
   "cell_type": "markdown",
   "id": "f24cb5ed-014f-4ec7-9cba-2b948433d50e",
   "metadata": {},
   "source": [
    "## DataArray\n",
    "\n",
    "### pcolormesh vs contourf\n",
    "\n",
    "DataArray.plot(levels=) behaves different than contourf\n",
    "\n",
    "weird logic with levs1 and levs2\n"
   ]
  },
  {
   "cell_type": "code",
   "execution_count": null,
   "id": "75879518-211e-4698-8d35-418d7abc4535",
   "metadata": {},
   "outputs": [],
   "source": [
    "da = xr.DataArray(data)\n",
    "\n",
    "fig, axs = plt.subplots(1,3, figsize=(14,4))\n",
    "ax = axs[0]\n",
    "da.plot(ax=ax, norm=matplotlib.colors.LogNorm(vmin=levs1[0], vmax=levs1[-1]))\n",
    "ax.set_title('pcolormesh')\n",
    "\n",
    "# Repeats color on upper limit => All values above v > 1e3 are same\n",
    "ax = axs[1]\n",
    "da.plot(ax=ax, levels=levs1, norm=matplotlib.colors.LogNorm(vmin=levs1[0], vmax=levs1[-1]))\n",
    "ax.set_title('contourf')\n",
    "\n",
    "# Repeats color on upper limit => Values 1e2 & 1e3 same cat, then yellow for v > 1e3\n",
    "ax = axs[2]\n",
    "da.plot(ax=ax, levels=levs2, norm=matplotlib.colors.LogNorm(vmin=levs2[0], vmax=levs2[-1]))\n",
    "ax.set_title('contourf & levs2')\n",
    "\n",
    "fig.suptitle('DataArray - plot')"
   ]
  },
  {
   "cell_type": "markdown",
   "id": "51dd4fe2-b27a-4ea3-9d24-ae9fa4eb6768",
   "metadata": {},
   "source": [
    "### pcolormesh vs contourf - V2\n",
    "\n",
    "DataArray.plot(levels=) differs from DataArray.plot.contourf(levels=)\n",
    "\n",
    "DataArray.plot.contourf(levels=) still has repeated color but consistent with levs1 or levs2"
   ]
  },
  {
   "cell_type": "code",
   "execution_count": null,
   "id": "a2dd6f15-38c6-4149-aa5c-b637493f6065",
   "metadata": {},
   "outputs": [],
   "source": [
    "da = xr.DataArray(data)\n",
    "\n",
    "fig, axs = plt.subplots(1,3, figsize=(14,4))\n",
    "ax = axs[0]\n",
    "da.plot.pcolormesh(ax=ax, norm=matplotlib.colors.LogNorm(vmin=levs1[0], vmax=levs1[-1]))\n",
    "ax.set_title('pcolormesh')\n",
    "\n",
    "ax = axs[1]\n",
    "da.plot.contourf(ax=ax, levels=levs1, norm=matplotlib.colors.LogNorm(vmin=levs1[0], vmax=levs1[-1]))\n",
    "ax.set_title('contourf')\n",
    "\n",
    "ax = axs[2]\n",
    "da.plot.contourf(ax=ax, levels=levs2, norm=matplotlib.colors.LogNorm(vmin=levs2[0], vmax=levs2[-1]))\n",
    "ax.set_title('contourf & levs2')\n",
    "\n",
    "fig.suptitle('DataArray - plot specific')"
   ]
  },
  {
   "cell_type": "markdown",
   "id": "60dd28ca-010c-4a94-bed9-e8c14865fd95",
   "metadata": {},
   "source": [
    "### contourf + extended\n",
    "\n",
    "Conclusion: Need to set limits on LogNorm for consistent coloring of levels"
   ]
  },
  {
   "cell_type": "code",
   "execution_count": null,
   "id": "df62f282-6998-4788-b965-311e14383d22",
   "metadata": {},
   "outputs": [],
   "source": [
    "# https://stackoverflow.com/questions/48613920/use-of-extend-in-a-pcolormesh-plot-with-discrete-colorbar\n",
    "\n",
    "cmap_name = 'viridis'\n",
    "cmap = plt.cm.get_cmap('viridis', len(levs2)+1)\n",
    "colors = list(cmap(np.arange(len(levs2)+1)))\n",
    "\n",
    "# replace extended colors\n",
    "colors[0] = \"white\"\n",
    "colors[-1] = 'red'\n",
    "\n",
    "cmap2 = matplotlib.colors.ListedColormap(colors)\n",
    "# can also be done like this\n",
    "# cmap2.set_over('red')\n"
   ]
  },
  {
   "cell_type": "code",
   "execution_count": null,
   "id": "c6e7de35-0290-4884-bf4e-557941ca0f09",
   "metadata": {},
   "outputs": [],
   "source": [
    "# CORRECT: DataArray.plot.contourf with limits on LogNorm\n",
    "fig, axs = plt.subplots(1,2, figsize=(10,4))\n",
    "da.plot.contourf(ax=axs[0], levels=levs2, cmap=cmap, norm=matplotlib.colors.LogNorm(vmin=levs2[0], vmax=levs2[-1]))\n",
    "da.plot.contourf(ax=axs[1], levels=levs2, cmap=cmap2, norm=matplotlib.colors.LogNorm(vmin=levs2[0], vmax=levs2[-1]))"
   ]
  },
  {
   "cell_type": "code",
   "execution_count": null,
   "id": "71c425c8-33be-4f78-86d7-dba48175c089",
   "metadata": {},
   "outputs": [],
   "source": [
    "# BAD: DataArray.plot => Inconsistent with contourf\n",
    "fig, axs = plt.subplots(1,2, figsize=(10,4))\n",
    "da.plot(ax=axs[0], levels=levs2, cmap=cmap, norm=matplotlib.colors.LogNorm(vmin=levs2[0], vmax=levs2[-1]))\n",
    "da.plot(ax=axs[1], levels=levs2, cmap=cmap2, norm=matplotlib.colors.LogNorm(vmin=levs2[0], vmax=levs2[-1]))"
   ]
  },
  {
   "cell_type": "code",
   "execution_count": null,
   "id": "b8a3c8e8-787d-45d7-88c4-39e7b8ab3609",
   "metadata": {},
   "outputs": [],
   "source": [
    "# BAD: DataArray.plot without limits on LogNorm => Inconsistent colors..\n",
    "fig, axs = plt.subplots(1,2, figsize=(10,4))\n",
    "da.plot(ax=axs[0], levels=levs2, cmap=cmap, norm=matplotlib.colors.LogNorm())\n",
    "da.plot(ax=axs[1], levels=levs2, cmap=cmap2, norm=matplotlib.colors.LogNorm())"
   ]
  },
  {
   "cell_type": "code",
   "execution_count": null,
   "id": "54a0ecfe-a1e4-4a50-9ee4-d258a70bd379",
   "metadata": {},
   "outputs": [],
   "source": [
    "# BAD: DataArray.plot.contourf without limits on LogNorm => Inconsistent colors..\n",
    "fig, axs = plt.subplots(1,2, figsize=(10,4))\n",
    "da.plot.contourf(ax=axs[0], levels=levs2, cmap=cmap, norm=matplotlib.colors.LogNorm())\n",
    "da.plot.contourf(ax=axs[1], levels=levs2, cmap=cmap2, norm=matplotlib.colors.LogNorm())"
   ]
  },
  {
   "cell_type": "code",
   "execution_count": null,
   "id": "4fa3817b-0930-48ae-8687-18655a76ba74",
   "metadata": {},
   "outputs": [],
   "source": [
    "cmap"
   ]
  },
  {
   "cell_type": "code",
   "execution_count": null,
   "id": "b8036e72-0e60-4f75-8c1f-8b00149d5be0",
   "metadata": {},
   "outputs": [],
   "source": [
    "cmap2"
   ]
  },
  {
   "cell_type": "code",
   "execution_count": null,
   "id": "c81b93f7-dc9d-472e-be13-842e386f7726",
   "metadata": {},
   "outputs": [],
   "source": [
    "cmap2.N"
   ]
  },
  {
   "cell_type": "markdown",
   "id": "e8da0cb9-121b-47d0-b475-91ecc1522882",
   "metadata": {},
   "source": [
    "### contourf + extend with matplotlib +3.3\n",
    "\n",
    "http://omz-software.com/pythonista/matplotlib/examples/api/colorbar_only.html\n"
   ]
  },
  {
   "cell_type": "code",
   "execution_count": null,
   "id": "3425d432-d3a4-404a-a404-8f6a0e100761",
   "metadata": {},
   "outputs": [],
   "source": [
    "levs1, levs2"
   ]
  },
  {
   "cell_type": "code",
   "execution_count": null,
   "id": "771dacb3-7ac5-4cba-979d-65dfaf071722",
   "metadata": {},
   "outputs": [],
   "source": [
    "# http://omz-software.com/pythonista/matplotlib/examples/api/colorbar_only.html\n",
    "\n",
    "fig, axs = plt.subplots(1,2, figsize=(10,4))\n",
    "da.plot.contourf(ax=axs[0], levels=levs2, cmap=cmap2, norm=matplotlib.colors.LogNorm(vmin=levs2[0], vmax=levs2[-1]), add_colorbar=False)\n",
    "da.plot.contourf(ax=axs[1], levels=levs2, cmap=cmap2, norm=matplotlib.colors.LogNorm(vmin=levs2[0], vmax=levs2[-1]), add_colorbar=False)\n",
    "\n",
    "fig.subplots_adjust(right=0.85)\n",
    "cbar_ax = fig.add_axes([0.88, 0.15, 0.03, 0.7])\n",
    "# Doesn't do the extend (deprecated matplotlib +3.3)\n",
    "# cb = fig.colorbar(p1, cax=cbar_ax, extend='both')\n",
    "\n",
    "cb = matplotlib.colorbar.ColorbarBase(ax=cbar_ax,\n",
    "    cmap=cmap2,\n",
    "    norm=matplotlib.colors.LogNorm(vmin=levs1[0], vmax=levs1[-1]),\n",
    "    # to use 'extend', you must\n",
    "    # specify two extra boundaries:\n",
    "    boundaries=levs1, #[0]+bounds+[13],\n",
    "    extend='both',\n",
    "#     ticks=levs2, # optional\n",
    "    spacing='proportional',\n",
    ")\n",
    "\n",
    "cb.set_label('colorbar label')"
   ]
  },
  {
   "cell_type": "code",
   "execution_count": null,
   "id": "5da4c7f0-cac8-4de1-914f-6b877a158382",
   "metadata": {},
   "outputs": [],
   "source": []
  }
 ],
 "metadata": {
  "kernelspec": {
   "display_name": "Python 3 (ipykernel)",
   "language": "python",
   "name": "python3"
  },
  "language_info": {
   "codemirror_mode": {
    "name": "ipython",
    "version": 3
   },
   "file_extension": ".py",
   "mimetype": "text/x-python",
   "name": "python",
   "nbconvert_exporter": "python",
   "pygments_lexer": "ipython3",
   "version": "3.12.5"
  }
 },
 "nbformat": 4,
 "nbformat_minor": 5
}
