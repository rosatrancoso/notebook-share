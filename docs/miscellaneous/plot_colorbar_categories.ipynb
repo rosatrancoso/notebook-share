{
 "cells": [
  {
   "cell_type": "markdown",
   "metadata": {},
   "source": [
    "# Plot colorbar with categories"
   ]
  },
  {
   "cell_type": "code",
   "execution_count": 53,
   "metadata": {},
   "outputs": [],
   "source": [
    "import numpy as np\n",
    "import matplotlib as mpl\n",
    "import matplotlib.pyplot as plt\n",
    "\n",
    "import numpy as np\n",
    "from scipy.signal.windows import gaussian\n",
    "# import plotly.express as px\n"
   ]
  },
  {
   "cell_type": "markdown",
   "metadata": {},
   "source": [
    "## colormap from rgb values + cyan for water (16)"
   ]
  },
  {
   "cell_type": "markdown",
   "metadata": {},
   "source": [
    "### Set up test data"
   ]
  },
  {
   "cell_type": "code",
   "execution_count": null,
   "metadata": {},
   "outputs": [],
   "source": [
    "\n",
    "vals = np.array([1,3,5,16,21])\n",
    "iswater = 16\n",
    "\n",
    "data = np.zeros((5,5))\n",
    "for i, val in enumerate(vals):\n",
    "    data[i,:] = val\n",
    "plt.imshow(data)\n",
    "plt.colorbar()\n"
   ]
  },
  {
   "cell_type": "code",
   "execution_count": null,
   "metadata": {},
   "outputs": [],
   "source": [
    "print(vals)\n",
    "\n",
    "rgbs = mpl.cm.viridis(np.linspace(0,1,len(vals)+1))\n",
    "rgbs "
   ]
  },
  {
   "cell_type": "code",
   "execution_count": null,
   "metadata": {},
   "outputs": [],
   "source": [
    "print(mpl.colors.to_rgb('cyan')) \n",
    "\n",
    "idx = np.where(vals==iswater)[0][0]\n",
    "rgbs[idx,:] = list(mpl.colors.to_rgb('cyan')) + [1]\n",
    "print(rgbs)\n",
    "\n",
    "cmap = mpl.colors.ListedColormap(rgbs[:-1]).with_extremes(over=rgbs[-1])\n",
    "cmap"
   ]
  },
  {
   "cell_type": "code",
   "execution_count": null,
   "metadata": {},
   "outputs": [],
   "source": [
    "norm = mpl.colors.BoundaryNorm(vals,cmap.N, extend='max')\n",
    "plt.imshow(data, cmap=cmap, norm=norm)\n",
    "plt.colorbar()"
   ]
  },
  {
   "cell_type": "markdown",
   "metadata": {},
   "source": [
    "## colormap from list of colors and thresholds"
   ]
  },
  {
   "cell_type": "code",
   "execution_count": null,
   "metadata": {},
   "outputs": [],
   "source": [
    "\n",
    "thresholds = np.array([0.2,2,5,10])\n",
    "print(thresholds)\n",
    "\n",
    "colors_rgb= [\n",
    "    [160,210,255], # blue\n",
    "    [255,153,0], # orange\n",
    "    [255,40,0], # red\n",
    "    [170,0,170], # purple\n",
    "]\n",
    "colors = [mpl.colors.to_hex(np.array(rgb)/255) for rgb in colors_rgb]\n",
    "print(colors )\n",
    "\n",
    "cmap = mpl.colors.ListedColormap(colors)\n",
    "cmap \n"
   ]
  },
  {
   "cell_type": "markdown",
   "metadata": {},
   "source": [
    "### Set up test data"
   ]
  },
  {
   "cell_type": "code",
   "execution_count": null,
   "metadata": {},
   "outputs": [],
   "source": [
    "\n",
    "N = 7   # kernel size\n",
    "k1d = gaussian(N, std=1).reshape(N, 1)\n",
    "kernel = np.outer(k1d, k1d)*11.\n",
    "\n",
    "plt.imshow(kernel)\n",
    "plt.colorbar()"
   ]
  },
  {
   "cell_type": "markdown",
   "metadata": {},
   "source": [
    "Mask below 0.1 with NaN"
   ]
  },
  {
   "cell_type": "code",
   "execution_count": null,
   "metadata": {},
   "outputs": [],
   "source": [
    "# kernel_m1 = np.ma.masked_where(kernel<0.1, kernel)\n",
    "kernel_m1 = np.where(kernel<0.1, np.nan, kernel)\n",
    "print(kernel_m1)\n",
    "\n",
    "plt.imshow(kernel_m1)\n",
    "plt.colorbar()"
   ]
  },
  {
   "cell_type": "markdown",
   "metadata": {},
   "source": [
    "Mask below 0.2 with NaN"
   ]
  },
  {
   "cell_type": "code",
   "execution_count": null,
   "metadata": {},
   "outputs": [],
   "source": [
    "# kernel_m1 = np.ma.masked_where(kernel<0.1, kernel)\n",
    "kernel_m2 = np.where(kernel<thresholds[0], np.nan, kernel)\n",
    "print(kernel_m2)\n",
    "\n",
    "plt.imshow(kernel_m2)\n",
    "plt.colorbar()"
   ]
  },
  {
   "cell_type": "code",
   "execution_count": null,
   "metadata": {},
   "outputs": [],
   "source": [
    "cmap = mpl.colors.ListedColormap(colors)\n",
    "cmap "
   ]
  },
  {
   "cell_type": "markdown",
   "metadata": {},
   "source": [
    "without the `extend=max` option, the colorbar will not show the color for the pre-to-last value (red)"
   ]
  },
  {
   "cell_type": "code",
   "execution_count": null,
   "metadata": {},
   "outputs": [],
   "source": [
    "norm = mpl.colors.BoundaryNorm(thresholds,cmap.N)\n",
    "\n",
    "fig, ax = plt.subplots(figsize=(6, 1), layout='constrained')\n",
    "fig.colorbar(mpl.cm.ScalarMappable(norm=norm, cmap=cmap), \n",
    "             cax=ax, orientation='horizontal', label='extend neither')\n"
   ]
  },
  {
   "cell_type": "code",
   "execution_count": null,
   "metadata": {},
   "outputs": [],
   "source": [
    "norm = mpl.colors.BoundaryNorm(thresholds,cmap.N, extend='max')\n",
    "\n",
    "fig, ax = plt.subplots(figsize=(6, 1), layout='constrained')\n",
    "fig.colorbar(mpl.cm.ScalarMappable(norm=norm, cmap=cmap), \n",
    "             cax=ax, orientation='horizontal', label='extend max')\n"
   ]
  },
  {
   "cell_type": "code",
   "execution_count": null,
   "metadata": {},
   "outputs": [],
   "source": [
    "plt.imshow(kernel_m1, cmap=cmap, norm=norm)\n",
    "plt.colorbar()"
   ]
  },
  {
   "cell_type": "code",
   "execution_count": null,
   "metadata": {},
   "outputs": [],
   "source": [
    "plt.imshow(kernel_m2, cmap=cmap, norm=norm)\n",
    "plt.colorbar()"
   ]
  },
  {
   "cell_type": "code",
   "execution_count": null,
   "metadata": {},
   "outputs": [],
   "source": [
    "kernel = np.outer(k1d, k1d)\n",
    "kernel_m2 = np.where(kernel<thresholds[0], np.nan, kernel)\n",
    "\n",
    "fig, axs = plt.subplots(2,2, figsize=(10,10))\n",
    "i = 0\n",
    "for x in [1,5,10,15]:\n",
    "    ax = axs.flatten()[i]\n",
    "    p1 = ax.pcolormesh(kernel_m2*x, cmap=cmap, norm=norm)\n",
    "    plt.colorbar(p1, ax=ax)\n",
    "    ax.set_title(f'x={x}')\n",
    "    i+=1\n"
   ]
  },
  {
   "cell_type": "code",
   "execution_count": null,
   "metadata": {},
   "outputs": [],
   "source": [
    "kernel = np.outer(k1d, k1d)\n",
    "kernel_m1 = np.where(kernel<0.1, np.nan, kernel)\n",
    "\n",
    "fig, axs = plt.subplots(2,2, figsize=(10,10))\n",
    "i = 0\n",
    "for x in [1,5,10,15]:\n",
    "    ax = axs.flatten()[i]\n",
    "    p1 = ax.pcolormesh(kernel_m1*x, cmap=cmap, norm=norm)\n",
    "    plt.colorbar(p1, ax=ax)\n",
    "    ax.set_title(f'x={x}')\n",
    "    i+=1\n"
   ]
  }
 ],
 "metadata": {
  "kernelspec": {
   "display_name": "leafmap",
   "language": "python",
   "name": "python3"
  },
  "language_info": {
   "codemirror_mode": {
    "name": "ipython",
    "version": 3
   },
   "file_extension": ".py",
   "mimetype": "text/x-python",
   "name": "python",
   "nbconvert_exporter": "python",
   "pygments_lexer": "ipython3",
   "version": "3.13.1"
  }
 },
 "nbformat": 4,
 "nbformat_minor": 2
}
