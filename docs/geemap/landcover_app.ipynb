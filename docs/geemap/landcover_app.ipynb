{
  "cells": [
    {
      "cell_type": "markdown",
      "metadata": {},
      "source": [
        "Based on work by https://github.com/opengeos/voila-geospatial/\n",
        "\n",
        "My app running in https://huggingface.co/spaces/rosatrancoso/voila-geospatial/blob/main/notebooks/landcover_app.ipynb\n",
        "\n",
        "To do: Resolve permissions"
      ]
    },
    {
      "cell_type": "code",
      "execution_count": null,
      "metadata": {
        "id": "-cuqzzMQXEPP"
      },
      "outputs": [],
      "source": [
        "import geemap\n",
        "import ee\n",
        "\n",
        "# if on google colab\n",
        "# ee.Authenticate()\n",
        "# ee.Initialize(project='test1-420603')\n",
        "\n",
        "import pandas as pd\n",
        "from io import StringIO\n",
        "\n",
        "def rgb2hex(r,g,b):\n",
        "    return \"#{:02x}{:02x}{:02x}\".format(r,g,b)\n",
        "\n",
        "def hex2rgb(hexcode):\n",
        "    return tuple(map(ord,hexcode[1:].decode('hex')))\n",
        "\n",
        "\n",
        "# legends = geemap.builtin_legends\n",
        "# for legend in legends:\n",
        "#     print(legend)\n"
      ]
    },
    {
      "cell_type": "code",
      "execution_count": null,
      "metadata": {
        "id": "fRA45VdbOJ21"
      },
      "outputs": [],
      "source": [
        "Map = geemap.Map(center=[-40,175], zoom=6)#, toolbar_ctrl=True, layer_ctrl=True)\n",
        "Map"
      ]
    },
    {
      "cell_type": "code",
      "execution_count": null,
      "metadata": {
        "id": "nJJKh91DXmIV"
      },
      "outputs": [],
      "source": [
        "\n",
        "# Add worldcover 10m\n",
        "# worldcover2020_name = 'ESA WorldCover 2020 (10m)'\n",
        "# worldcover2020 = ee.ImageCollection(\"ESA/WorldCover/v100\").first()\n",
        "# Map.addLayer(worldcover2020, {}, worldcover2020_name)\n",
        "\n",
        "\n",
        "worldcover2021 = ee.ImageCollection(\"ESA/WorldCover/v200\").first()\n",
        "# Map.addLayer(worldcover2021, {}, 'ESA WorldCover 2021 (10m)')\n",
        "\n",
        "# Map.add_legend(title=\"ESA WorldCover (10m)\", builtin_legend=\"ESA_WorldCover\")\n"
      ]
    },
    {
      "cell_type": "code",
      "execution_count": null,
      "metadata": {
        "id": "3657q5zCh5sF"
      },
      "outputs": [],
      "source": [
        "globcover2009 = ee.Image('ESA/GLOBCOVER_L4_200901_200912_V2_3').select('landcover')\n",
        "\n",
        "legend = pd.read_csv(StringIO(\"\"\"\n",
        "Red,Green,Blue,Class,Label\n",
        "170,240,240,11,11 Post-flood/irrigated croplands (3)\n",
        "255,255,100,14,14 Rainfed croplands (5)\n",
        "220,240,100,20,20 Mosaic cropland 50-70%/vegetation 20-50% (9)\n",
        "205,205,102,30,30 Mosaic cropland 50-70%/vegetation 20-50% (9)\n",
        "0,100,0,40,40 >15% Evergreen broadleaf/semi-deciduous (11/13)\n",
        "0,160,0,50,50 >40% Deciduous Broadleaf Forest (11)\n",
        "170,200,0,60,60 15-40% Deciduous Broadleaf Forest(11)\n",
        "0,60,0,70,70 >40% Evergreen Needleleaf Forest (14)\n",
        "40,100,0,90,90 15-40% Needleleaf deciduous/evergreen (12/14)\n",
        "120,130,0,100,100 >15% Broadleaf/NeedleLeaf (13/14)\n",
        "140,160,0,110,110 50-70% forest/shrubland 20-50% grassland (13)\n",
        "190,150,0,120,120 50-70% grassland 20-50% forest/shrubland (6)\n",
        "150,100,0,130,130 >15% Shrubland (8)\n",
        "255,180,50,140,140 >15% herbaceous vegetation (10)\n",
        "255,235,175,150,150 Sparsely (<15%) Vegetated (19)\n",
        "0,120,90,160,160 Regularly flooded broadleaf (18)\n",
        "0,150,120,170,170 Permanently flooded broadleaf/shrubland (17)\n",
        "0,220,130,180,180 Regularly flooded grassland/woody vegetation (3/17)\n",
        "195,20,0,190,190 Artificial (1)\n",
        "255,245,215,200,200 Barren (19)\n",
        "0,70,200,210,210 Water Bodies (16)\n",
        "255,255,255,220,220 Snow or Ice (24)\n",
        "\"\"\"))\n",
        "\n",
        "legend['Color'] = legend[['Red', 'Green', 'Blue']].apply(lambda x: rgb2hex(*x), axis=1)\n",
        "\n",
        "vis_param = {\n",
        "    \"min\": 11,\n",
        "    \"max\": 220,\n",
        "    \"palette\": list(legend['Color']),\n",
        "}\n",
        "\n",
        "legend_dict = {}\n",
        "for index, row in legend.iterrows():\n",
        "  legend_dict[row['Label']] = row['Color']\n",
        "\n",
        "\n",
        "# Map.addLayer(globcover2009, vis_param, globcover2009_name)\n",
        "# Map.add_legend(title='ESA Globcover 2009 (300 m)', legend_dict=legend_dict, position='bottomleft')\n",
        "\n"
      ]
    },
    {
      "cell_type": "code",
      "execution_count": null,
      "metadata": {
        "id": "Ul53bE7yQH33"
      },
      "outputs": [],
      "source": [
        "left_layer = geemap.ee_tile_layer(globcover2009, vis_param, 'ESA Globcover 2009 (300 m)')\n",
        "right_layer = geemap.ee_tile_layer(worldcover2021, {}, 'ESA Worldcover 2021 (10 m)')\n",
        "\n",
        "Map.split_map(left_layer, right_layer)\n",
        "\n",
        "Map.add_legend(title='ESA Globcover 2009 (300 m)', legend_dict=legend_dict, position='bottomleft')\n",
        "Map.add_legend(title=\"ESA WorldCover 2021 (10 m)\", builtin_legend=\"ESA_WorldCover\", position='bottomright')\n"
      ]
    }
  ],
  "metadata": {
    "colab": {
      "provenance": []
    },
    "kernelspec": {
      "display_name": "Python 3",
      "name": "python3"
    },
    "language_info": {
      "codemirror_mode": {
        "name": "ipython",
        "version": 3
      },
      "file_extension": ".py",
      "mimetype": "text/x-python",
      "name": "python",
      "nbconvert_exporter": "python",
      "pygments_lexer": "ipython3",
      "version": "3.12.3"
    }
  },
  "nbformat": 4,
  "nbformat_minor": 0
}
