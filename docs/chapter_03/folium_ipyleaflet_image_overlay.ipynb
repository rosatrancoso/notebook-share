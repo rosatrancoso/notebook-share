{
 "cells": [
  {
   "cell_type": "code",
   "execution_count": null,
   "id": "comic-whole",
   "metadata": {},
   "outputs": [],
   "source": [
    "import numpy as np\n",
    "import matplotlib.pyplot as plt\n",
    "import folium\n",
    "import ipyleaflet\n",
    "from base64 import b64encode\n",
    "\n",
    "vmin = 0\n",
    "vmax = 2000\n",
    "\n",
    "import matplotlib\n",
    "cmap = matplotlib.cm.get_cmap(\"viridis\")\n",
    "\n",
    "# testing - not used here\n",
    "import branca.colormap as cm\n",
    "bcmap = cm.linear.viridis.scale(vmin=vmin, vmax=vmax).to_step(n=4)\n",
    "bcmap.caption = 'my color scale'\n",
    "bcmap\n"
   ]
  },
  {
   "cell_type": "markdown",
   "id": "e9e45422-17ef-4e74-973d-c17a93bd9631",
   "metadata": {},
   "source": [
    "# Create data"
   ]
  },
  {
   "cell_type": "code",
   "execution_count": null,
   "id": "fb6a920e-c583-4bdc-91d4-d5fd8fa8c2a4",
   "metadata": {},
   "outputs": [],
   "source": [
    "n = 5\n",
    "data = np.zeros((n, n))\n",
    "\n",
    "# borders are vmax\n",
    "data[0, :] = vmax\n",
    "data[-1, :] = vmax\n",
    "data[:, 0] = vmax\n",
    "data[:, -1] = vmax\n",
    "\n",
    "# diagonal is vmax/2\n",
    "for i in np.arange(n):\n",
    "    data[i,i] = vmax/2\n",
    "\n",
    "# central point is nan (see transparencu)\n",
    "data[int(n/2),int(n/2)] = np.nan\n",
    "\n",
    "print(data)\n",
    "\n",
    "plt.imshow(data, cmap=cmap)\n",
    "plt.colorbar()"
   ]
  },
  {
   "cell_type": "markdown",
   "id": "4f2c3cf2-3e20-4731-9e5c-eab8e0a3a3c0",
   "metadata": {},
   "source": [
    "## plot png"
   ]
  },
  {
   "cell_type": "code",
   "execution_count": null,
   "id": "d90980d8-3709-4651-8095-c11326568764",
   "metadata": {},
   "outputs": [],
   "source": [
    "# this still saves fig with border\n",
    "# plt.imshow(data, cmap=cmap, aspect='equal', vmin=vmin, vmax=vmax)\n",
    "# plt.axis('off')\n",
    "# plt.savefig('temp.png', transparent=True, bbox_inches='tight', dpi=500)\n"
   ]
  },
  {
   "cell_type": "code",
   "execution_count": null,
   "id": "b2516f81-b8af-4e59-937a-7bc1adc1334c",
   "metadata": {},
   "outputs": [],
   "source": [
    "fig = plt.figure(figsize=(1, 1))\n",
    "ax = plt.Axes(fig, [0., 0., 1., 1.])\n",
    "ax.set_axis_off()\n",
    "fig.add_axes(ax)\n",
    "ax.imshow(data, cmap=cmap, aspect='equal', vmin=vmin, vmax=vmax)\n",
    "fig.savefig('temp.png', dpi=500)"
   ]
  },
  {
   "cell_type": "markdown",
   "id": "8d1a8135-1e41-45d2-aff5-bf84ec342b7b",
   "metadata": {},
   "source": [
    "## read png as base64"
   ]
  },
  {
   "cell_type": "code",
   "execution_count": null,
   "id": "0483cb67-2373-4d5d-b0b0-fdb2169577e3",
   "metadata": {},
   "outputs": [],
   "source": [
    "from base64 import b64encode\n",
    "\n",
    "with open('temp.png', \"rb\") as f:\n",
    "    data1 = b64encode(f.read())\n",
    "    data1 = data1.decode(\"ascii\")\n",
    "    imgurl = \"data:image/png;base64,\" + data1"
   ]
  },
  {
   "cell_type": "code",
   "execution_count": null,
   "id": "2722b4ae-5377-4d2e-a664-627cd5dceda2",
   "metadata": {},
   "outputs": [],
   "source": [
    "# bottom left\n",
    "x1,y1 = 175,-39\n",
    "\n",
    "# bottom left\n",
    "# x1,y1 = -5,39\n",
    "\n",
    "x2,y2 = x1+n,y1+n\n",
    "print(x1,x2,y1,y2)\n",
    "\n",
    "bounds = [[y1, x1], [y2, x2]]\n",
    "center = [(y1+y2)/2, (x1+x2)/2]\n",
    "print(center)\n"
   ]
  },
  {
   "cell_type": "markdown",
   "id": "a8c1ae71-4682-4309-ab3d-ad1faffd011c",
   "metadata": {},
   "source": [
    "## get gridlines "
   ]
  },
  {
   "cell_type": "code",
   "execution_count": null,
   "id": "958da294-b033-4bf9-8153-c5c207755f48",
   "metadata": {},
   "outputs": [],
   "source": [
    "def get_latlon_gridlines(window=[-180,180,-90,90], dx=10,dy=10):\n",
    "    x1,x2,y1,y2 = window\n",
    "    gridlines = []\n",
    "    # parallels for each lat\n",
    "    for lat in np.arange(y1, y2+dy/2, dy):\n",
    "        gridlines += [([lat,x1], [lat,x2])]\n",
    "    # meridians for each lon\n",
    "    for lon in  np.arange(x1, x2+dx/2, dx):\n",
    "        gridlines += [([y1,lon], [y2,lon])]\n",
    "\n",
    "    return(gridlines)\n",
    "\n",
    "gridlines = get_latlon_gridlines(window=[x1,x2,y1,y2], dx=1,dy=1)"
   ]
  },
  {
   "cell_type": "code",
   "execution_count": null,
   "id": "65f96d2e-c308-4972-b855-c6c8f8d19894",
   "metadata": {},
   "outputs": [],
   "source": [
    "gridlines"
   ]
  },
  {
   "cell_type": "markdown",
   "id": "7ddf7dfb-c5fb-444c-ba55-65bec8d7f194",
   "metadata": {},
   "source": [
    "# Plot"
   ]
  },
  {
   "cell_type": "markdown",
   "id": "015c4f96-59c6-4035-a4e6-b775da3929f9",
   "metadata": {},
   "source": [
    "## folium\n",
    "- raw data ok but weird color scale\n",
    "- png file and base64 are ok if png doesn't have border!"
   ]
  },
  {
   "cell_type": "code",
   "execution_count": null,
   "id": "4d069e12-5ebd-4314-8117-04d6355e7ccb",
   "metadata": {},
   "outputs": [],
   "source": [
    "import os\n",
    "curr_dir = os.getcwd()\n",
    "curr_dir"
   ]
  },
  {
   "cell_type": "code",
   "execution_count": null,
   "id": "expanded-adventure",
   "metadata": {
    "tags": []
   },
   "outputs": [],
   "source": [
    "m = folium.Map(center, zoom_start=2)\n",
    "\n",
    "folium.PolyLine(gridlines, color='gray', weight=0.5, name='gridlines').add_to(m)\n",
    "\n",
    "folium.raster_layers.ImageOverlay(\n",
    "    name='raw data',\n",
    "    image=data,\n",
    "    bounds=bounds,\n",
    "    colormap=cmap,\n",
    "    vmin=vmin, vmax=vmax,\n",
    "    opacity=0.6,\n",
    ").add_to(m)\n",
    "\n",
    "folium.raster_layers.ImageOverlay(\n",
    "    name='png file',\n",
    "    image=os.path.join(curr_dir, 'temp.png'),\n",
    "    bounds=bounds,\n",
    "    opacity=0.6,\n",
    ").add_to(m)\n",
    "\n",
    "folium.raster_layers.ImageOverlay(\n",
    "    name='png base64',\n",
    "    image=imgurl,\n",
    "    bounds=bounds,\n",
    "    opacity=0.6,\n",
    ").add_to(m)\n",
    "\n",
    "\n",
    "\n",
    "m.add_child(folium.map.LayerControl(position='topleft', collapsed=False))\n",
    "m.fit_bounds(m.get_bounds(),max_zoom=14)\n",
    "\n",
    "# maybe we could do a colormap based on ColorLine\n",
    "# folium.ColorLine(positions=[[70,-60],[70,0], [70,60]], colors=[0,1], colormap=['r','g'], weigth=10).add_to(m)\n",
    "\n",
    "m"
   ]
  },
  {
   "cell_type": "markdown",
   "id": "01f85189-c981-4d2e-8ef5-52a07c270394",
   "metadata": {},
   "source": [
    "## ipyleaflet \n",
    "- doesn't plot raw data (np.array)\n",
    "- png base64 is ok"
   ]
  },
  {
   "cell_type": "code",
   "execution_count": null,
   "id": "integral-casting",
   "metadata": {},
   "outputs": [],
   "source": [
    "m = ipyleaflet.Map(center=center, zoom=4)\n",
    "\n",
    "m.add_layer(\n",
    "    ipyleaflet.Polyline(\n",
    "        locations=gridlines,\n",
    "        color=\"gray\" ,\n",
    "        fill=False,\n",
    "        weight=1\n",
    "    )\n",
    ")\n",
    "\n",
    "# TraitError: The 'url' trait of an ImageOverlay instance expected a unicode string, not the ndarray array([[1000., 1000., 1000., ..., 2000., 2000., 2000.],\n",
    "# m.add_layer(\n",
    "#     ipyleaflet.ImageOverlay(\n",
    "#         url=data,\n",
    "#         bounds=bounds,\n",
    "#         colormap=cmap\n",
    "#     )\n",
    "# )\n",
    "\n",
    "m.add_layer(\n",
    "    ipyleaflet.ImageOverlay(\n",
    "        url=imgurl,\n",
    "        bounds=bounds,\n",
    "        colormap=cmap\n",
    "    )\n",
    ")\n",
    "\n",
    "m"
   ]
  },
  {
   "cell_type": "code",
   "execution_count": null,
   "id": "98e46853-e63c-4ed1-bd6a-1be9d636a9a1",
   "metadata": {},
   "outputs": [],
   "source": []
  },
  {
   "cell_type": "code",
   "execution_count": null,
   "id": "9fc6acd1-a99a-4ef8-bcb9-edea25ed1fee",
   "metadata": {},
   "outputs": [],
   "source": []
  }
 ],
 "metadata": {
  "kernelspec": {
   "display_name": "Python 3 (ipykernel)",
   "language": "python",
   "name": "python3"
  },
  "language_info": {
   "codemirror_mode": {
    "name": "ipython",
    "version": 3
   },
   "file_extension": ".py",
   "mimetype": "text/x-python",
   "name": "python",
   "nbconvert_exporter": "python",
   "pygments_lexer": "ipython3",
   "version": "3.12.5"
  }
 },
 "nbformat": 4,
 "nbformat_minor": 5
}
