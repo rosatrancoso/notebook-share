{
 "cells": [
  {
   "cell_type": "markdown",
   "id": "0",
   "metadata": {},
   "source": [
    "[![image](https://jupyterlite.rtfd.io/en/latest/_static/badge.svg)](https://demo.leafmap.org/lab/index.html?path=notebooks/05_load_raster.ipynb)\n",
    "[![image](https://colab.research.google.com/assets/colab-badge.svg)](https://colab.research.google.com/github/opengeos/leafmap/blob/master/examples/notebooks/05_load_raster.ipynb)\n",
    "[![image](https://mybinder.org/badge_logo.svg)](https://mybinder.org/v2/gh/opengeos/leafmap/HEAD)\n",
    "\n",
    "**Loading local raster datasets with leafmap**\n",
    "\n",
    "Uncomment the following line to install [leafmap](https://leafmap.org) if needed."
   ]
  },
  {
   "cell_type": "code",
   "execution_count": 10,
   "id": "1",
   "metadata": {},
   "outputs": [],
   "source": [
    "# !pip install leafmap"
   ]
  },
  {
   "cell_type": "markdown",
   "id": "2",
   "metadata": {},
   "source": [
    "To follow this tutorial, you need to install the [leafmap](https://leafmap.org) and [xarray_leaflet](https://github.com/davidbrochart/xarray_leaflet) Python packages. Use the following conda commands to create a conda env and install packages. Note that `xarray_leaflet` does not work properly on Windows ([source](https://github.com/davidbrochart/xarray_leaflet/issues/30)). Also, the `add_raster` function is only available for the ipyleaflet plotting backend. Therefore, Google Colab is not supported. Use the binder link above instead.  \n",
    "\n",
    "- `conda create -n gee python`\n",
    "- `conda activate gee`\n",
    "- `conda install mamba -c conda-forge`\n",
    "- `mamba install leafmap xarray_leaflet -c conda-forge`"
   ]
  },
  {
   "cell_type": "markdown",
   "id": "3",
   "metadata": {},
   "source": [
    "Use the ipyleaflet plotting backend. The folium plotting backend does not support the `add_raster` function."
   ]
  },
  {
   "cell_type": "markdown",
   "id": "dc7049a9",
   "metadata": {},
   "source": [
    "### My test:\n",
    "\n",
    "https://leafmap.org/notebooks/05_load_raster/\n",
    "\n",
    "```\n",
    "\n",
    "conda create -n leafmap -c conda-forge leafmap xarray_leaflet localtileserver netcdf4\n",
    "conda activate leafmap\n",
    "\n",
    "conda create -n leafmap2 -c conda-forge leafmap xarray rasterio localtileserver netcdf4\n",
    "conda activate leafmap2\n",
    "```"
   ]
  },
  {
   "cell_type": "code",
   "execution_count": 11,
   "id": "4",
   "metadata": {},
   "outputs": [],
   "source": [
    "import os\n",
    "import leafmap.leafmap as leafmap"
   ]
  },
  {
   "cell_type": "markdown",
   "id": "5",
   "metadata": {},
   "source": [
    "Specify input raster datasets"
   ]
  },
  {
   "cell_type": "code",
   "execution_count": 12,
   "id": "6",
   "metadata": {},
   "outputs": [],
   "source": [
    "landsat = \"landsat.tif\"\n",
    "dem = \"dem.tif\""
   ]
  },
  {
   "cell_type": "markdown",
   "id": "7",
   "metadata": {},
   "source": [
    "Download samples raster datasets\n",
    "\n",
    "More datasets can be downloaded from https://viewer.nationalmap.gov/basic/"
   ]
  },
  {
   "cell_type": "code",
   "execution_count": 13,
   "id": "8",
   "metadata": {},
   "outputs": [
    {
     "name": "stdout",
     "output_type": "stream",
     "text": [
      "landsat.tif already exists. Skip downloading. Set overwrite=True to overwrite.\n",
      "dem.tif already exists. Skip downloading. Set overwrite=True to overwrite.\n"
     ]
    }
   ],
   "source": [
    "url1 = \"https://open.gishub.org/data/raster/landsat7.tif\"\n",
    "url2 = \"https://open.gishub.org/data/raster/srtm90.tif\"\n",
    "satellite = leafmap.download_file(url1, \"landsat.tif\")\n",
    "dem = leafmap.download_file(url2, \"dem.tif\")"
   ]
  },
  {
   "cell_type": "markdown",
   "id": "9",
   "metadata": {},
   "source": [
    "Create an interactive map"
   ]
  },
  {
   "cell_type": "code",
   "execution_count": 14,
   "id": "10",
   "metadata": {},
   "outputs": [],
   "source": [
    "m = leafmap.Map()"
   ]
  },
  {
   "cell_type": "markdown",
   "id": "11",
   "metadata": {},
   "source": [
    "Add local raster datasets to the map\n",
    "\n",
    "More colormap can be found at https://matplotlib.org/3.1.0/tutorials/colors/colormaps.html"
   ]
  },
  {
   "cell_type": "code",
   "execution_count": 15,
   "id": "12",
   "metadata": {},
   "outputs": [],
   "source": [
    "m.add_raster(dem, colormap=\"terrain\", layer_name=\"DEM\")"
   ]
  },
  {
   "cell_type": "code",
   "execution_count": 16,
   "id": "13",
   "metadata": {},
   "outputs": [],
   "source": [
    "# m.add_raster(landsat, bands=[5, 4, 3], layer_name=\"Landsat\")\n",
    "m.add_raster(landsat, layer_name=\"Landsat\")"
   ]
  },
  {
   "cell_type": "markdown",
   "id": "14",
   "metadata": {},
   "source": [
    "Display the map"
   ]
  },
  {
   "cell_type": "code",
   "execution_count": 17,
   "id": "15",
   "metadata": {},
   "outputs": [
    {
     "data": {
      "application/vnd.jupyter.widget-view+json": {
       "model_id": "b86970c614ca49ed8ccd439c698dd91c",
       "version_major": 2,
       "version_minor": 0
      },
      "text/plain": [
       "Map(center=[37.7736215, -122.34097449999999], controls=(ZoomControl(options=['position', 'zoom_in_text', 'zoom…"
      ]
     },
     "execution_count": 17,
     "metadata": {},
     "output_type": "execute_result"
    }
   ],
   "source": [
    "m"
   ]
  },
  {
   "cell_type": "code",
   "execution_count": 19,
   "id": "b1290134",
   "metadata": {},
   "outputs": [
    {
     "ename": "FileNotFoundError",
     "evalue": "ALBB-BH_20190110000000_GLOBE_PROBAV_V2_area_subset.nc does not exist.",
     "output_type": "error",
     "traceback": [
      "\u001b[0;31m---------------------------------------------------------------------------\u001b[0m",
      "\u001b[0;31mFileNotFoundError\u001b[0m                         Traceback (most recent call last)",
      "\u001b[0;32m/tmp/ipykernel_594392/605439370.py\u001b[0m in \u001b[0;36m?\u001b[0;34m()\u001b[0m\n\u001b[0;32m----> 1\u001b[0;31m \u001b[0malbedo\u001b[0m \u001b[0;34m=\u001b[0m \u001b[0mleafmap\u001b[0m\u001b[0;34m.\u001b[0m\u001b[0mread_netcdf\u001b[0m\u001b[0;34m(\u001b[0m\u001b[0;34m'ALBB-BH_20190110000000_GLOBE_PROBAV_V2_area_subset.nc'\u001b[0m\u001b[0;34m)\u001b[0m\u001b[0;34m\u001b[0m\u001b[0;34m\u001b[0m\u001b[0m\n\u001b[0m\u001b[1;32m      2\u001b[0m \u001b[0malbedo\u001b[0m\u001b[0;34m.\u001b[0m\u001b[0mrio\u001b[0m\u001b[0;34m.\u001b[0m\u001b[0mwrite_crs\u001b[0m\u001b[0;34m(\u001b[0m\u001b[0;34m\"EPSG:4326\"\u001b[0m\u001b[0;34m,\u001b[0m \u001b[0minplace\u001b[0m\u001b[0;34m=\u001b[0m\u001b[0;32mTrue\u001b[0m\u001b[0;34m)\u001b[0m\u001b[0;34m\u001b[0m\u001b[0;34m\u001b[0m\u001b[0m\n\u001b[1;32m      3\u001b[0m \u001b[0mm\u001b[0m\u001b[0;34m.\u001b[0m\u001b[0madd_raster\u001b[0m\u001b[0;34m(\u001b[0m\u001b[0malbedo\u001b[0m\u001b[0;34m[\u001b[0m\u001b[0;34m'AL_BH_BB'\u001b[0m\u001b[0;34m]\u001b[0m\u001b[0;34m,\u001b[0m \u001b[0mlayer_name\u001b[0m\u001b[0;34m=\u001b[0m\u001b[0;34m\"Albedo\"\u001b[0m\u001b[0;34m)\u001b[0m\u001b[0;34m\u001b[0m\u001b[0;34m\u001b[0m\u001b[0m\n",
      "\u001b[0;32m~/miniforge3/envs/leafmap/lib/python3.12/site-packages/leafmap/common.py\u001b[0m in \u001b[0;36m?\u001b[0;34m(filename, **kwargs)\u001b[0m\n\u001b[1;32m   4945\u001b[0m     \u001b[0;32mif\u001b[0m \u001b[0mfilename\u001b[0m\u001b[0;34m.\u001b[0m\u001b[0mstartswith\u001b[0m\u001b[0;34m(\u001b[0m\u001b[0;34m\"http\"\u001b[0m\u001b[0;34m)\u001b[0m\u001b[0;34m:\u001b[0m\u001b[0;34m\u001b[0m\u001b[0;34m\u001b[0m\u001b[0m\n\u001b[1;32m   4946\u001b[0m         \u001b[0mfilename\u001b[0m \u001b[0;34m=\u001b[0m \u001b[0mdownload_file\u001b[0m\u001b[0;34m(\u001b[0m\u001b[0mfilename\u001b[0m\u001b[0;34m)\u001b[0m\u001b[0;34m\u001b[0m\u001b[0;34m\u001b[0m\u001b[0m\n\u001b[1;32m   4947\u001b[0m \u001b[0;34m\u001b[0m\u001b[0m\n\u001b[1;32m   4948\u001b[0m     \u001b[0;32mif\u001b[0m \u001b[0;32mnot\u001b[0m \u001b[0mos\u001b[0m\u001b[0;34m.\u001b[0m\u001b[0mpath\u001b[0m\u001b[0;34m.\u001b[0m\u001b[0mexists\u001b[0m\u001b[0;34m(\u001b[0m\u001b[0mfilename\u001b[0m\u001b[0;34m)\u001b[0m\u001b[0;34m:\u001b[0m\u001b[0;34m\u001b[0m\u001b[0;34m\u001b[0m\u001b[0m\n\u001b[0;32m-> 4949\u001b[0;31m         \u001b[0;32mraise\u001b[0m \u001b[0mFileNotFoundError\u001b[0m\u001b[0;34m(\u001b[0m\u001b[0;34mf\"\u001b[0m\u001b[0;34m{\u001b[0m\u001b[0mfilename\u001b[0m\u001b[0;34m}\u001b[0m\u001b[0;34m does not exist.\u001b[0m\u001b[0;34m\"\u001b[0m\u001b[0;34m)\u001b[0m\u001b[0;34m\u001b[0m\u001b[0;34m\u001b[0m\u001b[0m\n\u001b[0m\u001b[1;32m   4950\u001b[0m \u001b[0;34m\u001b[0m\u001b[0m\n\u001b[1;32m   4951\u001b[0m     \u001b[0mxds\u001b[0m \u001b[0;34m=\u001b[0m \u001b[0mxr\u001b[0m\u001b[0;34m.\u001b[0m\u001b[0mopen_dataset\u001b[0m\u001b[0;34m(\u001b[0m\u001b[0mfilename\u001b[0m\u001b[0;34m,\u001b[0m \u001b[0;34m**\u001b[0m\u001b[0mkwargs\u001b[0m\u001b[0;34m)\u001b[0m\u001b[0;34m\u001b[0m\u001b[0;34m\u001b[0m\u001b[0m\n\u001b[1;32m   4952\u001b[0m     \u001b[0;32mreturn\u001b[0m \u001b[0mxds\u001b[0m\u001b[0;34m\u001b[0m\u001b[0;34m\u001b[0m\u001b[0m\n",
      "\u001b[0;31mFileNotFoundError\u001b[0m: ALBB-BH_20190110000000_GLOBE_PROBAV_V2_area_subset.nc does not exist."
     ]
    }
   ],
   "source": [
    "albedo = leafmap.read_netcdf('ALBB-BH_20190110000000_GLOBE_PROBAV_V2_area_subset.nc')\n",
    "albedo.rio.write_crs(\"EPSG:4326\", inplace=True)\n",
    "m.add_raster(albedo['AL_BH_BB'], layer_name=\"Albedo\")\n"
   ]
  },
  {
   "cell_type": "code",
   "execution_count": null,
   "id": "ac6269a7",
   "metadata": {},
   "outputs": [],
   "source": []
  },
  {
   "cell_type": "code",
   "execution_count": null,
   "id": "5c71ac46",
   "metadata": {},
   "outputs": [],
   "source": []
  }
 ],
 "metadata": {
  "kernelspec": {
   "display_name": "Python 3",
   "language": "python",
   "name": "python3"
  },
  "language_info": {
   "codemirror_mode": {
    "name": "ipython",
    "version": 3
   },
   "file_extension": ".py",
   "mimetype": "text/x-python",
   "name": "python",
   "nbconvert_exporter": "python",
   "pygments_lexer": "ipython3",
   "version": "3.12.5"
  }
 },
 "nbformat": 4,
 "nbformat_minor": 5
}
