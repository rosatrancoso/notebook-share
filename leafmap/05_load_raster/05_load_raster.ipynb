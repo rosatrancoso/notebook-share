{
 "cells": [
  {
   "cell_type": "markdown",
   "id": "dc7049a9",
   "metadata": {},
   "source": [
    "# 05_load_raster\n",
    "\n",
    "Following  https://leafmap.org/notebooks/05_load_raster/\n",
    "\n",
    "Uses the ipyleaflet plotting backend. The folium plotting backend does not support the `add_raster` function.\n",
    "\n",
    "\n",
    "```\n",
    "conda create -n leafmap -c conda-forge leafmap xarray_leaflet localtileserver netcdf4\n",
    "conda activate leafmap\n",
    "```"
   ]
  },
  {
   "cell_type": "code",
   "execution_count": 1,
   "id": "4",
   "metadata": {},
   "outputs": [],
   "source": [
    "import os\n",
    "import leafmap.leafmap as leafmap"
   ]
  },
  {
   "cell_type": "markdown",
   "id": "5",
   "metadata": {},
   "source": [
    "## load tif files from the example\n",
    "\n",
    "Download sample raster datasets\n",
    "\n",
    "More datasets can be downloaded from https://viewer.nationalmap.gov/basic/"
   ]
  },
  {
   "cell_type": "code",
   "execution_count": 2,
   "id": "6",
   "metadata": {},
   "outputs": [],
   "source": [
    "landsat = \"landsat.tif\"\n",
    "dem = \"dem.tif\""
   ]
  },
  {
   "cell_type": "code",
   "execution_count": 3,
   "id": "8",
   "metadata": {},
   "outputs": [
    {
     "name": "stdout",
     "output_type": "stream",
     "text": [
      "landsat.tif already exists. Skip downloading. Set overwrite=True to overwrite.\n",
      "dem.tif already exists. Skip downloading. Set overwrite=True to overwrite.\n"
     ]
    }
   ],
   "source": [
    "url1 = \"https://open.gishub.org/data/raster/landsat7.tif\"\n",
    "url2 = \"https://open.gishub.org/data/raster/srtm90.tif\"\n",
    "satellite = leafmap.download_file(url1, landsat)\n",
    "dem = leafmap.download_file(url2, dem)"
   ]
  },
  {
   "cell_type": "code",
   "execution_count": 4,
   "id": "368cc59b",
   "metadata": {},
   "outputs": [
    {
     "name": "stdout",
     "output_type": "stream",
     "text": [
      "Driver: GTiff/GeoTIFF\n",
      "Files: landsat.tif\n",
      "Size is 2181, 1917\n",
      "Coordinate System is:\n",
      "PROJCRS[\"WGS 84 / Pseudo-Mercator\",\n",
      "    BASEGEOGCRS[\"WGS 84\",\n",
      "        ENSEMBLE[\"World Geodetic System 1984 ensemble\",\n",
      "            MEMBER[\"World Geodetic System 1984 (Transit)\"],\n",
      "            MEMBER[\"World Geodetic System 1984 (G730)\"],\n",
      "            MEMBER[\"World Geodetic System 1984 (G873)\"],\n",
      "            MEMBER[\"World Geodetic System 1984 (G1150)\"],\n",
      "            MEMBER[\"World Geodetic System 1984 (G1674)\"],\n",
      "            MEMBER[\"World Geodetic System 1984 (G1762)\"],\n",
      "            MEMBER[\"World Geodetic System 1984 (G2139)\"],\n",
      "            MEMBER[\"World Geodetic System 1984 (G2296)\"],\n",
      "            ELLIPSOID[\"WGS 84\",6378137,298.257223563,\n",
      "                LENGTHUNIT[\"metre\",1]],\n",
      "            ENSEMBLEACCURACY[2.0]],\n",
      "        PRIMEM[\"Greenwich\",0,\n",
      "            ANGLEUNIT[\"degree\",0.0174532925199433]],\n",
      "        ID[\"EPSG\",4326]],\n",
      "    CONVERSION[\"Popular Visualisation Pseudo-Mercator\",\n",
      "        METHOD[\"Popular Visualisation Pseudo Mercator\",\n",
      "            ID[\"EPSG\",1024]],\n",
      "        PARAMETER[\"Latitude of natural origin\",0,\n",
      "            ANGLEUNIT[\"degree\",0.0174532925199433],\n",
      "            ID[\"EPSG\",8801]],\n",
      "        PARAMETER[\"Longitude of natural origin\",0,\n",
      "            ANGLEUNIT[\"degree\",0.0174532925199433],\n",
      "            ID[\"EPSG\",8802]],\n",
      "        PARAMETER[\"False easting\",0,\n",
      "            LENGTHUNIT[\"metre\",1],\n",
      "            ID[\"EPSG\",8806]],\n",
      "        PARAMETER[\"False northing\",0,\n",
      "            LENGTHUNIT[\"metre\",1],\n",
      "            ID[\"EPSG\",8807]]],\n",
      "    CS[Cartesian,2],\n",
      "        AXIS[\"easting (X)\",east,\n",
      "            ORDER[1],\n",
      "            LENGTHUNIT[\"metre\",1]],\n",
      "        AXIS[\"northing (Y)\",north,\n",
      "            ORDER[2],\n",
      "            LENGTHUNIT[\"metre\",1]],\n",
      "    USAGE[\n",
      "        SCOPE[\"Web mapping and visualisation.\"],\n",
      "        AREA[\"World between 85.06°S and 85.06°N.\"],\n",
      "        BBOX[-85.06,-180,85.06,180]],\n",
      "    ID[\"EPSG\",3857]]\n",
      "Data axis to CRS axis mapping: 1,2\n",
      "Origin = (-13651650.000000000000000,4576290.000000000000000)\n",
      "Pixel Size = (30.000000000000000,-30.000000000000000)\n",
      "Metadata:\n",
      "  TIFFTAG_XRESOLUTION=1\n",
      "  TIFFTAG_YRESOLUTION=1\n",
      "  TIFFTAG_RESOLUTIONUNIT=1 (unitless)\n",
      "  OVR_RESAMPLING_ALG=NEAREST\n",
      "  AREA_OR_POINT=Area\n",
      "Image Structure Metadata:\n",
      "  LAYOUT=COG\n",
      "  COMPRESSION=DEFLATE\n",
      "  INTERLEAVE=PIXEL\n",
      "Corner Coordinates:\n",
      "Upper Left  (-13651650.000, 4576290.000) (122d38' 5.49\"W, 37d58'40.08\"N)\n",
      "Lower Left  (-13651650.000, 4518780.000) (122d38' 5.49\"W, 37d34'10.00\"N)\n",
      "Upper Right (-13586220.000, 4576290.000) (122d 2'49.53\"W, 37d58'40.08\"N)\n",
      "Lower Right (-13586220.000, 4518780.000) (122d 2'49.53\"W, 37d34'10.00\"N)\n",
      "Center      (-13618935.000, 4547535.000) (122d20'27.51\"W, 37d46'26.05\"N)\n",
      "Band 1 Block=512x512 Type=Byte, ColorInterp=Red\n",
      "  NoData Value=0\n",
      "  Overviews: 1091x959, 546x480\n",
      "Band 2 Block=512x512 Type=Byte, ColorInterp=Green\n",
      "  NoData Value=0\n",
      "  Overviews: 1091x959, 546x480\n",
      "Band 3 Block=512x512 Type=Byte, ColorInterp=Blue\n",
      "  NoData Value=0\n",
      "  Overviews: 1091x959, 546x480\n"
     ]
    }
   ],
   "source": [
    "! gdalinfo landsat.tif"
   ]
  },
  {
   "cell_type": "code",
   "execution_count": 5,
   "id": "10",
   "metadata": {},
   "outputs": [
    {
     "data": {
      "application/vnd.jupyter.widget-view+json": {
       "model_id": "d13075dd9f594f2d93284297f7cb2277",
       "version_major": 2,
       "version_minor": 0
      },
      "text/plain": [
       "Map(center=[37.7736215, -122.34097449999999], controls=(ZoomControl(options=['position', 'zoom_in_text', 'zoom…"
      ]
     },
     "execution_count": 5,
     "metadata": {},
     "output_type": "execute_result"
    }
   ],
   "source": [
    "m = leafmap.Map()\n",
    "m.add_raster(dem, colormap=\"terrain\", layer_name=\"DEM\")\n",
    "m.add_raster(landsat, bands=[1, 2, 3], layer_name=\"Landsat\") \n",
    "# m.add_raster(landsat, layer_name=\"Landsat\")\n",
    "m"
   ]
  },
  {
   "cell_type": "markdown",
   "id": "7ccb40e5",
   "metadata": {},
   "source": [
    "## load a netcdf file \n",
    "To be reviewed.."
   ]
  },
  {
   "cell_type": "code",
   "execution_count": 8,
   "id": "18a84104",
   "metadata": {},
   "outputs": [
    {
     "name": "stdout",
     "output_type": "stream",
     "text": [
      "netcdf qva_det_Ruapehu_202501081200 {\n",
      "dimensions:\n",
      "\ttime = UNLIMITED ; // (24 currently)\n",
      "\tlatitude = 361 ;\n",
      "\tlongitude = 441 ;\n",
      "\tlevels = 12 ;\n",
      "variables:\n",
      "\tfloat latitude(latitude) ;\n",
      "\t\tlatitude:_FillValue = NaNf ;\n",
      "\t\tlatitude:long_name = \"latitude degrees north from the equator\" ;\n",
      "\t\tlatitude:units = \"degrees_north\" ;\n",
      "\t\tlatitude:point_spacing = \"even\" ;\n",
      "\tfloat longitude(longitude) ;\n",
      "\t\tlongitude:_FillValue = NaNf ;\n",
      "\t\tlongitude:long_name = \"longitude degrees east from the greenwich meridian\" ;\n",
      "\t\tlongitude:units = \"degrees_east\" ;\n",
      "\t\tlongitude:point_spacing = \"even\" ;\n",
      "\tdouble levels(levels) ;\n",
      "\t\tlevels:_FillValue = NaN ;\n",
      "\t\tlevels:long_name = \"Top of flight level layer\" ;\n",
      "\t\tlevels:units = \"feet\" ;\n",
      "\t\tlevels:axis = \"Z\" ;\n",
      "\t\tlevels:positive = \"up\" ;\n",
      "\tint64 time(time) ;\n",
      "\t\ttime:axis = \"T\" ;\n",
      "\t\ttime:long_name = \"time\" ;\n",
      "\t\ttime:units = \"hours since 2025-01-08T13:00:00\" ;\n",
      "\t\ttime:calendar = \"proleptic_gregorian\" ;\n",
      "\tfloat concentration(time, levels, latitude, longitude) ;\n",
      "\t\tconcentration:_FillValue = NaNf ;\n",
      "\t\tconcentration:long_name = \"Quantitative volcanic ash concentration from deterministic forecast\" ;\n",
      "\t\tconcentration:units = \"mg/m3\" ;\n",
      "\n",
      "// global attributes:\n",
      "\t\t:title = \"HYSPLIT Model Concentration Output\" ;\n",
      "\t\t:Conventions = \"CF-1.5\" ;\n",
      "\t\t:volcano_name = \"Ruapehu\" ;\n",
      "\t\t:eruption_lon_degrees = 175.57f ;\n",
      "\t\t:eruption_lat_degrees = -39.28f ;\n",
      "\t\t:eruption_vent_meters_msl = 2797.f ;\n",
      "\t\t:eruption_height_meters_msl = 12500.f ;\n",
      "\t\t:eruption_mass_eruption_rate_kgs = 87500. ;\n",
      "\t\t:eruption_start_time = \"2025-01-08T12:00:00\" ;\n",
      "\t\t:eruption_duration_s = 3600. ;\n",
      "}\n"
     ]
    }
   ],
   "source": [
    "! ncdump -h ../qva/qva_det_Ruapehu_202501081200.nc\n"
   ]
  },
  {
   "cell_type": "code",
   "execution_count": 36,
   "id": "b1290134",
   "metadata": {},
   "outputs": [
    {
     "data": {
      "text/plain": [
       "<matplotlib.collections.QuadMesh at 0x706ccb8bdd10>"
      ]
     },
     "execution_count": 36,
     "metadata": {},
     "output_type": "execute_result"
    },
    {
     "data": {
      "image/png": "[encoded data removed]",
      "text/plain": [
       "<Figure size 640x480 with 2 Axes>"
      ]
     },
     "metadata": {},
     "output_type": "display_data"
    }
   ],
   "source": [
    "ds = leafmap.read_netcdf('../qva/qva_det_Ruapehu_202501081200.nc')\n",
    "ds.rio.write_crs(\"EPSG:4326\", inplace=True)\n",
    "\n",
    "da = ds['concentration'].isel(time=2, levels=7)\n",
    "da = da.where(da > 1e-6)\n",
    "\n",
    "da.plot()\n",
    "\n",
    "\n"
   ]
  },
  {
   "cell_type": "code",
   "execution_count": 37,
   "id": "ac6269a7",
   "metadata": {},
   "outputs": [
    {
     "data": {
      "application/vnd.jupyter.widget-view+json": {
       "model_id": "3a0fa1a27c8f4dc8b25b6ef6aea11176",
       "version_major": 2,
       "version_minor": 0
      },
      "text/plain": [
       "Map(center=[-39.279999000000004, 175.570007], controls=(ZoomControl(options=['position', 'zoom_in_text', 'zoom…"
      ]
     },
     "execution_count": 37,
     "metadata": {},
     "output_type": "execute_result"
    }
   ],
   "source": [
    "m = leafmap.Map()\n",
    "m.add_raster(da, layer_name=\"QVA\")\n",
    "m"
   ]
  },
  {
   "cell_type": "code",
   "execution_count": null,
   "id": "5c71ac46",
   "metadata": {},
   "outputs": [],
   "source": []
  }
 ],
 "metadata": {
  "kernelspec": {
   "display_name": "leafmap",
   "language": "python",
   "name": "python3"
  },
  "language_info": {
   "codemirror_mode": {
    "name": "ipython",
    "version": 3
   },
   "file_extension": ".py",
   "mimetype": "text/x-python",
   "name": "python",
   "nbconvert_exporter": "python",
   "pygments_lexer": "ipython3",
   "version": "3.13.1"
  }
 },
 "nbformat": 4,
 "nbformat_minor": 5
}
