{
 "cells": [
  {
   "cell_type": "markdown",
   "metadata": {},
   "source": [
    "# Overlay tif image on ipyleaflet\n",
    "\n",
    "Crashing. To be reviewed..."
   ]
  },
  {
   "cell_type": "code",
   "execution_count": null,
   "metadata": {},
   "outputs": [],
   "source": [
    "! wget https://data.hydrosheds.org/file/hydrosheds-v1-con/au_con_3s/s40e170_con.zip"
   ]
  },
  {
   "cell_type": "code",
   "execution_count": null,
   "metadata": {},
   "outputs": [],
   "source": [
    "! unzip -o s40e170_con.zip"
   ]
  },
  {
   "cell_type": "code",
   "execution_count": null,
   "metadata": {},
   "outputs": [],
   "source": [
    "! gdalinfo s40e170_con.tif"
   ]
  },
  {
   "cell_type": "code",
   "execution_count": null,
   "metadata": {},
   "outputs": [],
   "source": [
    "%%bash\n",
    "\n",
    "export PROJ_LIB=\"$CONDA_PREFIX/share/proj\"\n",
    "rm -rf s40e170_con_merc.tif\n",
    "gdalwarp -s_srs epsg:4326 -t_srs epsg:3857 s40e170_con.tif s40e170_con_merc.tif"
   ]
  },
  {
   "cell_type": "code",
   "execution_count": null,
   "metadata": {},
   "outputs": [],
   "source": [
    "import rasterio\n",
    "import matplotlib.pyplot as plt\n",
    "import copy\n",
    "from base64 import b64encode\n",
    "import numpy as np\n",
    "import ipyleaflet\n",
    "\n",
    "cmap = copy.copy(plt.get_cmap('jet'))\n",
    "cmap.set_under('k', alpha=0)\n",
    "\n",
    "def geotiff_to_png(filein, fileout, cmap='jet', vmin=0.1, vmax=2000, mask_value=32767):\n",
    "\n",
    "    print(f'Reading {filein}')\n",
    "    src = rasterio.open(filein)\n",
    "    print(src.crs.to_proj4())\n",
    "    print(src.bounds)\n",
    "\n",
    "    data = src.read(1)\n",
    "    print(data.shape, data.min(), data.max())\n",
    "    data = np.where(data == mask_value, np.nan, data)\n",
    "    print(data.shape, np.nanmin(data), np.nanmax(data))\n",
    "\n",
    "    print(f'Plotting into {fileout}')\n",
    "    plt.imshow(data, cmap=cmap, aspect='equal', vmin=vmin, vmax=vmax)\n",
    "    plt.axis('off')\n",
    "    plt.savefig(fileout, transparent=True, bbox_inches='tight', dpi=500,pad_inches = 0)\n",
    "    plt.show()\n",
    "    plt.close()\n",
    "\n",
    "def get_latlon_gridlines(window=[-180,180,-90,90], dx=10,dy=10):\n",
    "    x1,x2,y1,y2 = window\n",
    "    gridlines = []\n",
    "    # parallels for each lat\n",
    "    for lat in np.arange(y1, y2+dy/2, dy):\n",
    "        gridlines += [([lat,x1], [lat,x2])]\n",
    "    # meridians for each lon\n",
    "    for lon in  np.arange(x1, x2+dx/2, dx):\n",
    "        gridlines += [([y1,lon], [y2,lon])]\n",
    "\n",
    "    return(gridlines)"
   ]
  },
  {
   "cell_type": "code",
   "execution_count": null,
   "metadata": {},
   "outputs": [],
   "source": [
    "geotiff_to_png('s40e170_con_merc.tif', 's40e170_con_merc.png', cmap='jet')"
   ]
  },
  {
   "cell_type": "code",
   "execution_count": null,
   "metadata": {},
   "outputs": [],
   "source": [
    "! gdalinfo s40e170_con.tif"
   ]
  },
  {
   "cell_type": "code",
   "execution_count": null,
   "metadata": {},
   "outputs": [],
   "source": [
    "# bounds = ((miny, minx), (maxy, maxx))\n",
    "x1,x2,y1,y2 = 170,180,-40,-30\n",
    "bounds = ((y1, x1), (y2,x2))\n",
    "print(bounds)\n",
    "\n",
    "gridlines = get_latlon_gridlines(window=[x1,x2,y1,y2], dx=1,dy=1)\n"
   ]
  },
  {
   "cell_type": "code",
   "execution_count": null,
   "metadata": {},
   "outputs": [],
   "source": [
    "\n",
    "m = ipyleaflet.Map(center=[-40,170], zoom = 4, scroll_wheel_zoom=True)\n",
    "\n",
    "\n",
    "m.add_layer(\n",
    "    ipyleaflet.Polyline(\n",
    "        name='gridlines',\n",
    "        locations=gridlines,\n",
    "        color=\"gray\" ,\n",
    "        fill=False,\n",
    "        weight=1\n",
    "    )\n",
    ")\n",
    "\n",
    "with open('s40e170_con_merc.png', \"rb\") as f:\n",
    "    data = b64encode(f.read())\n",
    "    data = data.decode(\"ascii\")\n",
    "    imgurl = \"data:image/png;base64,\" + data\n",
    "\n",
    "image = ipyleaflet.ImageOverlay(url=imgurl, bounds=bounds, opacity=0.4, name='merc')\n",
    "m.add_layer(image)\n",
    "\n",
    "m.add_control(ipyleaflet.LayersControl())\n",
    "m\n"
   ]
  }
 ],
 "metadata": {
  "kernelspec": {
   "display_name": "leafmap",
   "language": "python",
   "name": "python3"
  },
  "language_info": {
   "codemirror_mode": {
    "name": "ipython",
    "version": 3
   },
   "file_extension": ".py",
   "mimetype": "text/x-python",
   "name": "python",
   "nbconvert_exporter": "python",
   "pygments_lexer": "ipython3",
   "version": "3.13.1"
  }
 },
 "nbformat": 4,
 "nbformat_minor": 4
}
